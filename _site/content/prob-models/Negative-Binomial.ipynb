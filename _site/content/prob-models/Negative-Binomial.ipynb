{
 "cells": [
  {
   "cell_type": "markdown",
   "metadata": {},
   "source": [
    "> For modeling count data.."
   ]
  },
  {
   "cell_type": "code",
   "execution_count": 2,
   "metadata": {},
   "outputs": [],
   "source": [
    "import numpy as np\n",
    "import pandas as pd\n",
    "from scipy.optimize import minimize\n",
    "import os\n",
    "from IPython.display import display, Image\n",
    "import plotly.graph_objs as go"
   ]
  },
  {
   "cell_type": "code",
   "execution_count": 3,
   "metadata": {},
   "outputs": [],
   "source": [
    "def compute_probabilities(alpha, r, t, num_bins):\n",
    "    '''Compute the probability of a person landing in one of the discrete buckets'''\n",
    "    p = [(alpha / (alpha + t))**r]\n",
    "    for x in range(1, num_bins-1):\n",
    "        p.append(t * (r + x - 1) / x / (alpha + t) * p[x-1])\n",
    "        \n",
    "    # add remaining probability to right censored cell\n",
    "    p.append(1 - np.sum(p))\n",
    "\n",
    "    return p\n",
    "\n",
    "def log_likelihood(alpha, r, t, values, counts):\n",
    "    '''Objective function that we need to maximize to get best alpha and r params'''\n",
    "    if alpha <= 0 or r <= 0:\n",
    "        return -99999\n",
    "    probabilities = np.array(compute_probabilities(alpha, r, t, len(values)))\n",
    "    \n",
    "    return np.sum(np.log(probabilities) * np.array(counts))\n",
    "\n",
    "def maximize(values, counts):\n",
    "    '''Maximize log-likelihood by searching for best (alpha, r) combination'''\n",
    "    func = lambda x: -log_likelihood(x[0], x[1], 1, values, counts)\n",
    "    x0 = np.array([100., 100.])\n",
    "    res = minimize(func, x0, method='Nelder-Mead', options={'xtol': 1e-8, 'disp': False})\n",
    "\n",
    "    return res.x\n",
    "\n",
    "def forecast(values, counts, t):\n",
    "    '''Fits the nBD model to the data'''\n",
    "    # Generate best alpha, r\n",
    "    alpha, r = maximize(values, counts)\n",
    "    \n",
    "    # Calculate probabilities\n",
    "    probabilities = compute_probabilities(alpha, r, t, len(values))\n",
    "    \n",
    "    # Scale expectations to population\n",
    "    return probabilities * np.array([np.sum(counts)] * len(probabilities))\n",
    "\n",
    "\n",
    "def fixed_forecast(values, counts, alpha, r, t):\n",
    "    '''Forecasts with fixed alpha and r obtained from initial fit'''\n",
    "    # Calculate probabilities\n",
    "    probabilities = compute_probabilities(alpha, r, t, len(values))\n",
    "    \n",
    "    # Scale expectations to population\n",
    "    return probabilities * np.array([np.sum(counts)] * len(probabilities))"
   ]
  },
  {
   "cell_type": "markdown",
   "metadata": {},
   "source": [
    "## Example"
   ]
  },
  {
   "cell_type": "code",
   "execution_count": 4,
   "metadata": {},
   "outputs": [],
   "source": [
    "df = pd.read_csv('../data/barchart-1.csv').iloc[:, :2]"
   ]
  },
  {
   "cell_type": "code",
   "execution_count": 5,
   "metadata": {},
   "outputs": [],
   "source": [
    "# in-sample fit\n",
    "forecast_series = forecast(df['values'], df['actual'], 1)\n",
    "insample_df = (\n",
    "    pd.DataFrame({'values': np.arange(0.0, 11.0),\n",
    "                  'expected': forecast_series})\n",
    "    .merge(df, on='values')\n",
    "    .assign(\n",
    "        chi_sq=lambda x: np.abs(x['actual'] - x['expected']) / x['actual']\n",
    "    )\n",
    "              )"
   ]
  },
  {
   "cell_type": "code",
   "execution_count": 6,
   "metadata": {},
   "outputs": [
    {
     "data": {
      "text/html": [
       "<div>\n",
       "<style scoped>\n",
       "    .dataframe tbody tr th:only-of-type {\n",
       "        vertical-align: middle;\n",
       "    }\n",
       "\n",
       "    .dataframe tbody tr th {\n",
       "        vertical-align: top;\n",
       "    }\n",
       "\n",
       "    .dataframe thead th {\n",
       "        text-align: right;\n",
       "    }\n",
       "</style>\n",
       "<table border=\"1\" class=\"dataframe\">\n",
       "  <thead>\n",
       "    <tr style=\"text-align: right;\">\n",
       "      <th></th>\n",
       "      <th>values</th>\n",
       "      <th>expected</th>\n",
       "      <th>actual</th>\n",
       "      <th>chi_sq</th>\n",
       "    </tr>\n",
       "  </thead>\n",
       "  <tbody>\n",
       "    <tr>\n",
       "      <th>0</th>\n",
       "      <td>0.0</td>\n",
       "      <td>272.202473</td>\n",
       "      <td>271</td>\n",
       "      <td>0.004437</td>\n",
       "    </tr>\n",
       "    <tr>\n",
       "      <th>1</th>\n",
       "      <td>1.0</td>\n",
       "      <td>63.402661</td>\n",
       "      <td>67</td>\n",
       "      <td>0.053692</td>\n",
       "    </tr>\n",
       "    <tr>\n",
       "      <th>2</th>\n",
       "      <td>2.0</td>\n",
       "      <td>30.480391</td>\n",
       "      <td>30</td>\n",
       "      <td>0.016013</td>\n",
       "    </tr>\n",
       "    <tr>\n",
       "      <th>3</th>\n",
       "      <td>3.0</td>\n",
       "      <td>17.171105</td>\n",
       "      <td>20</td>\n",
       "      <td>0.141445</td>\n",
       "    </tr>\n",
       "    <tr>\n",
       "      <th>4</th>\n",
       "      <td>4.0</td>\n",
       "      <td>10.382548</td>\n",
       "      <td>9</td>\n",
       "      <td>0.153616</td>\n",
       "    </tr>\n",
       "    <tr>\n",
       "      <th>5</th>\n",
       "      <td>5.0</td>\n",
       "      <td>6.535131</td>\n",
       "      <td>5</td>\n",
       "      <td>0.307026</td>\n",
       "    </tr>\n",
       "    <tr>\n",
       "      <th>6</th>\n",
       "      <td>6.0</td>\n",
       "      <td>4.221403</td>\n",
       "      <td>1</td>\n",
       "      <td>3.221403</td>\n",
       "    </tr>\n",
       "    <tr>\n",
       "      <th>7</th>\n",
       "      <td>7.0</td>\n",
       "      <td>2.776654</td>\n",
       "      <td>2</td>\n",
       "      <td>0.388327</td>\n",
       "    </tr>\n",
       "    <tr>\n",
       "      <th>8</th>\n",
       "      <td>8.0</td>\n",
       "      <td>1.850937</td>\n",
       "      <td>2</td>\n",
       "      <td>0.074532</td>\n",
       "    </tr>\n",
       "    <tr>\n",
       "      <th>9</th>\n",
       "      <td>9.0</td>\n",
       "      <td>1.246589</td>\n",
       "      <td>1</td>\n",
       "      <td>0.246589</td>\n",
       "    </tr>\n",
       "    <tr>\n",
       "      <th>10</th>\n",
       "      <td>10.0</td>\n",
       "      <td>2.730109</td>\n",
       "      <td>5</td>\n",
       "      <td>0.453978</td>\n",
       "    </tr>\n",
       "  </tbody>\n",
       "</table>\n",
       "</div>"
      ],
      "text/plain": [
       "    values    expected  actual    chi_sq\n",
       "0      0.0  272.202473     271  0.004437\n",
       "1      1.0   63.402661      67  0.053692\n",
       "2      2.0   30.480391      30  0.016013\n",
       "3      3.0   17.171105      20  0.141445\n",
       "4      4.0   10.382548       9  0.153616\n",
       "5      5.0    6.535131       5  0.307026\n",
       "6      6.0    4.221403       1  3.221403\n",
       "7      7.0    2.776654       2  0.388327\n",
       "8      8.0    1.850937       2  0.074532\n",
       "9      9.0    1.246589       1  0.246589\n",
       "10    10.0    2.730109       5  0.453978"
      ]
     },
     "execution_count": 6,
     "metadata": {},
     "output_type": "execute_result"
    }
   ],
   "source": [
    "insample_df"
   ]
  },
  {
   "cell_type": "code",
   "execution_count": null,
   "metadata": {},
   "outputs": [],
   "source": [
    "fig = go.Figure(data=[\n",
    "    go.Bar(name='Actual', x=insample_df['values'], y=insample_df['actual']),\n",
    "    go.Bar(name='Expected', x=insample_df['values'], y=insample_df['expected'])\n",
    "])\n",
    "\n",
    "fig.update_layout(title='',\n",
    "                  xaxis_title='x',\n",
    "                  yaxis_title='count',\n",
    "                 annotations=[\n",
    "                    \n",
    "                      ],\n",
    "                  xaxis = dict(\n",
    "                        tickmode = 'linear',\n",
    "                        tick0 = 0,\n",
    "                        dtick = 1\n",
    "                        )\n",
    "                 )\n",
    "\n",
    "# Change the bar mode\n",
    "fig.update_layout(barmode='group')\n",
    "\n",
    "fig.update_yaxes(range=[0, 275])\n",
    "\n",
    "fig.show()"
   ]
  },
  {
   "cell_type": "code",
   "execution_count": 8,
   "metadata": {},
   "outputs": [
    {
     "data": {
      "image/png": "[encoded data removed]",
      "text/plain": [
       "<IPython.core.display.Image object>"
      ]
     },
     "execution_count": 8,
     "metadata": {},
     "output_type": "execute_result"
    }
   ],
   "source": [
    "Image(filename='../images/nbd-figure-1.png')"
   ]
  }
 ],
 "metadata": {
  "kernelspec": {
   "display_name": "Python 3",
   "language": "python",
   "name": "python3"
  },
  "language_info": {
   "codemirror_mode": {
    "name": "ipython",
    "version": 3
   },
   "file_extension": ".py",
   "mimetype": "text/x-python",
   "name": "python",
   "nbconvert_exporter": "python",
   "pygments_lexer": "ipython3",
   "version": "3.6.5"
  }
 },
 "nbformat": 4,
 "nbformat_minor": 4
}
