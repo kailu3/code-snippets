{
 "cells": [
  {
   "cell_type": "code",
   "execution_count": 11,
   "metadata": {},
   "outputs": [],
   "source": [
    "import numpy as np\n",
    "import pandas as pd\n",
    "import statsmodels.api as sm\n",
    "import statsmodels.formula.api as smf"
   ]
  },
  {
   "cell_type": "markdown",
   "metadata": {},
   "source": [
    "## Khaki Chinos"
   ]
  },
  {
   "cell_type": "code",
   "execution_count": 15,
   "metadata": {},
   "outputs": [],
   "source": [
    "df = pd.read_csv('../data/poisson_regression.csv')"
   ]
  },
  {
   "cell_type": "code",
   "execution_count": 16,
   "metadata": {},
   "outputs": [
    {
     "data": {
      "text/html": [
       "<div>\n",
       "<style scoped>\n",
       "    .dataframe tbody tr th:only-of-type {\n",
       "        vertical-align: middle;\n",
       "    }\n",
       "\n",
       "    .dataframe tbody tr th {\n",
       "        vertical-align: top;\n",
       "    }\n",
       "\n",
       "    .dataframe thead th {\n",
       "        text-align: right;\n",
       "    }\n",
       "</style>\n",
       "<table border=\"1\" class=\"dataframe\">\n",
       "  <thead>\n",
       "    <tr style=\"text-align: right;\">\n",
       "      <th></th>\n",
       "      <th>ID</th>\n",
       "      <th>Visits</th>\n",
       "      <th>Income</th>\n",
       "      <th>Sex</th>\n",
       "      <th>Age</th>\n",
       "      <th>Size</th>\n",
       "    </tr>\n",
       "  </thead>\n",
       "  <tbody>\n",
       "    <tr>\n",
       "      <th>0</th>\n",
       "      <td>1</td>\n",
       "      <td>0</td>\n",
       "      <td>11.38</td>\n",
       "      <td>1</td>\n",
       "      <td>3.87</td>\n",
       "      <td>2</td>\n",
       "    </tr>\n",
       "    <tr>\n",
       "      <th>1</th>\n",
       "      <td>2</td>\n",
       "      <td>5</td>\n",
       "      <td>9.77</td>\n",
       "      <td>1</td>\n",
       "      <td>4.04</td>\n",
       "      <td>1</td>\n",
       "    </tr>\n",
       "    <tr>\n",
       "      <th>2</th>\n",
       "      <td>3</td>\n",
       "      <td>0</td>\n",
       "      <td>11.08</td>\n",
       "      <td>0</td>\n",
       "      <td>3.33</td>\n",
       "      <td>2</td>\n",
       "    </tr>\n",
       "    <tr>\n",
       "      <th>3</th>\n",
       "      <td>4</td>\n",
       "      <td>0</td>\n",
       "      <td>10.92</td>\n",
       "      <td>1</td>\n",
       "      <td>3.95</td>\n",
       "      <td>3</td>\n",
       "    </tr>\n",
       "    <tr>\n",
       "      <th>4</th>\n",
       "      <td>5</td>\n",
       "      <td>0</td>\n",
       "      <td>10.92</td>\n",
       "      <td>1</td>\n",
       "      <td>2.83</td>\n",
       "      <td>3</td>\n",
       "    </tr>\n",
       "  </tbody>\n",
       "</table>\n",
       "</div>"
      ],
      "text/plain": [
       "   ID  Visits  Income  Sex   Age  Size\n",
       "0   1       0   11.38    1  3.87     2\n",
       "1   2       5    9.77    1  4.04     1\n",
       "2   3       0   11.08    0  3.33     2\n",
       "3   4       0   10.92    1  3.95     3\n",
       "4   5       0   10.92    1  2.83     3"
      ]
     },
     "execution_count": 16,
     "metadata": {},
     "output_type": "execute_result"
    }
   ],
   "source": [
    "df.head()"
   ]
  },
  {
   "cell_type": "markdown",
   "metadata": {},
   "source": [
    "### Vanilla Poisson Regression"
   ]
  },
  {
   "cell_type": "code",
   "execution_count": 19,
   "metadata": {},
   "outputs": [
    {
     "data": {
      "text/html": [
       "<table class=\"simpletable\">\n",
       "<caption>Generalized Linear Model Regression Results</caption>\n",
       "<tr>\n",
       "  <th>Dep. Variable:</th>        <td>Visits</td>      <th>  No. Observations:  </th>  <td>  2728</td> \n",
       "</tr>\n",
       "<tr>\n",
       "  <th>Model:</th>                  <td>GLM</td>       <th>  Df Residuals:      </th>  <td>  2723</td> \n",
       "</tr>\n",
       "<tr>\n",
       "  <th>Model Family:</th>         <td>Poisson</td>     <th>  Df Model:          </th>  <td>     4</td> \n",
       "</tr>\n",
       "<tr>\n",
       "  <th>Link Function:</th>          <td>log</td>       <th>  Scale:             </th> <td>  1.0000</td>\n",
       "</tr>\n",
       "<tr>\n",
       "  <th>Method:</th>                <td>IRLS</td>       <th>  Log-Likelihood:    </th> <td> -6291.4</td>\n",
       "</tr>\n",
       "<tr>\n",
       "  <th>Date:</th>            <td>Sun, 22 Mar 2020</td> <th>  Deviance:          </th> <td>  10745.</td>\n",
       "</tr>\n",
       "<tr>\n",
       "  <th>Time:</th>                <td>17:39:02</td>     <th>  Pearson chi2:      </th> <td>4.10e+04</td>\n",
       "</tr>\n",
       "<tr>\n",
       "  <th>No. Iterations:</th>          <td>6</td>        <th>                     </th>     <td> </td>   \n",
       "</tr>\n",
       "<tr>\n",
       "  <th>Covariance Type:</th>     <td>nonrobust</td>    <th>                     </th>     <td> </td>   \n",
       "</tr>\n",
       "</table>\n",
       "<table class=\"simpletable\">\n",
       "<tr>\n",
       "      <td></td>         <th>coef</th>     <th>std err</th>      <th>z</th>      <th>P>|z|</th>  <th>[0.025</th>    <th>0.975]</th>  \n",
       "</tr>\n",
       "<tr>\n",
       "  <th>Intercept</th> <td>   -3.1221</td> <td>    0.406</td> <td>   -7.697</td> <td> 0.000</td> <td>   -3.917</td> <td>   -2.327</td>\n",
       "</tr>\n",
       "<tr>\n",
       "  <th>Income</th>    <td>    0.0931</td> <td>    0.034</td> <td>    2.710</td> <td> 0.007</td> <td>    0.026</td> <td>    0.160</td>\n",
       "</tr>\n",
       "<tr>\n",
       "  <th>Sex</th>       <td>    0.0043</td> <td>    0.041</td> <td>    0.105</td> <td> 0.916</td> <td>   -0.076</td> <td>    0.084</td>\n",
       "</tr>\n",
       "<tr>\n",
       "  <th>Age</th>       <td>    0.5893</td> <td>    0.055</td> <td>   10.756</td> <td> 0.000</td> <td>    0.482</td> <td>    0.697</td>\n",
       "</tr>\n",
       "<tr>\n",
       "  <th>Size</th>      <td>   -0.0358</td> <td>    0.015</td> <td>   -2.340</td> <td> 0.019</td> <td>   -0.066</td> <td>   -0.006</td>\n",
       "</tr>\n",
       "</table>"
      ],
      "text/plain": [
       "<class 'statsmodels.iolib.summary.Summary'>\n",
       "\"\"\"\n",
       "                 Generalized Linear Model Regression Results                  \n",
       "==============================================================================\n",
       "Dep. Variable:                 Visits   No. Observations:                 2728\n",
       "Model:                            GLM   Df Residuals:                     2723\n",
       "Model Family:                 Poisson   Df Model:                            4\n",
       "Link Function:                    log   Scale:                          1.0000\n",
       "Method:                          IRLS   Log-Likelihood:                -6291.4\n",
       "Date:                Sun, 22 Mar 2020   Deviance:                       10745.\n",
       "Time:                        17:39:02   Pearson chi2:                 4.10e+04\n",
       "No. Iterations:                     6                                         \n",
       "Covariance Type:            nonrobust                                         \n",
       "==============================================================================\n",
       "                 coef    std err          z      P>|z|      [0.025      0.975]\n",
       "------------------------------------------------------------------------------\n",
       "Intercept     -3.1221      0.406     -7.697      0.000      -3.917      -2.327\n",
       "Income         0.0931      0.034      2.710      0.007       0.026       0.160\n",
       "Sex            0.0043      0.041      0.105      0.916      -0.076       0.084\n",
       "Age            0.5893      0.055     10.756      0.000       0.482       0.697\n",
       "Size          -0.0358      0.015     -2.340      0.019      -0.066      -0.006\n",
       "==============================================================================\n",
       "\"\"\""
      ]
     },
     "execution_count": 19,
     "metadata": {},
     "output_type": "execute_result"
    }
   ],
   "source": [
    "model = smf.glm(formula='Visits ~ Income + Sex + Age + Size', \n",
    "                data=df, \n",
    "                family=sm.families.Poisson()).fit()\n",
    "\n",
    "summary = model.summary()\n",
    "summary"
   ]
  },
  {
   "cell_type": "markdown",
   "metadata": {},
   "source": [
    "### Zero-Inflated Poisson Regression"
   ]
  },
  {
   "cell_type": "code",
   "execution_count": 34,
   "metadata": {},
   "outputs": [],
   "source": [
    "from statsmodels.discrete.count_model import ZeroInflatedPoisson"
   ]
  },
  {
   "cell_type": "code",
   "execution_count": 36,
   "metadata": {},
   "outputs": [
    {
     "name": "stdout",
     "output_type": "stream",
     "text": [
      "Optimization terminated successfully.\n",
      "         Current function value: 1.575301\n",
      "         Iterations: 27\n",
      "         Function evaluations: 30\n",
      "         Gradient evaluations: 30\n"
     ]
    },
    {
     "name": "stderr",
     "output_type": "stream",
     "text": [
      "/Users/kailu/.pyenv/versions/3.6.5/lib/python3.6/site-packages/statsmodels/base/model.py:512: ConvergenceWarning: Maximum Likelihood optimization failed to converge. Check mle_retvals\n",
      "  \"Check mle_retvals\", ConvergenceWarning)\n"
     ]
    },
    {
     "data": {
      "text/html": [
       "<table class=\"simpletable\">\n",
       "<caption>ZeroInflatedPoisson Regression Results</caption>\n",
       "<tr>\n",
       "  <th>Dep. Variable:</th>         <td>Visits</td>        <th>  No. Observations:  </th>  <td>  2728</td> \n",
       "</tr>\n",
       "<tr>\n",
       "  <th>Model:</th>           <td>ZeroInflatedPoisson</td> <th>  Df Residuals:      </th>  <td>  2723</td> \n",
       "</tr>\n",
       "<tr>\n",
       "  <th>Method:</th>                  <td>MLE</td>         <th>  Df Model:          </th>  <td>     4</td> \n",
       "</tr>\n",
       "<tr>\n",
       "  <th>Date:</th>             <td>Sun, 22 Mar 2020</td>   <th>  Pseudo R-squ.:     </th> <td>0.001982</td>\n",
       "</tr>\n",
       "<tr>\n",
       "  <th>Time:</th>                 <td>18:15:05</td>       <th>  Log-Likelihood:    </th> <td> -4297.4</td>\n",
       "</tr>\n",
       "<tr>\n",
       "  <th>converged:</th>              <td>True</td>         <th>  LL-Null:           </th> <td> -4306.0</td>\n",
       "</tr>\n",
       "<tr>\n",
       "  <th>Covariance Type:</th>      <td>nonrobust</td>      <th>  LLR p-value:       </th> <td>0.001877</td>\n",
       "</tr>\n",
       "</table>\n",
       "<table class=\"simpletable\">\n",
       "<tr>\n",
       "        <td></td>           <th>coef</th>     <th>std err</th>      <th>z</th>      <th>P>|z|</th>  <th>[0.025</th>    <th>0.975]</th>  \n",
       "</tr>\n",
       "<tr>\n",
       "  <th>inflate_const</th> <td>    1.0631</td> <td>    0.045</td> <td>   23.829</td> <td> 0.000</td> <td>    0.976</td> <td>    1.151</td>\n",
       "</tr>\n",
       "<tr>\n",
       "  <th>Income</th>        <td>   -0.0898</td> <td>    0.036</td> <td>   -2.461</td> <td> 0.014</td> <td>   -0.161</td> <td>   -0.018</td>\n",
       "</tr>\n",
       "<tr>\n",
       "  <th>Sex</th>           <td>   -0.1327</td> <td>    0.043</td> <td>   -3.096</td> <td> 0.002</td> <td>   -0.217</td> <td>   -0.049</td>\n",
       "</tr>\n",
       "<tr>\n",
       "  <th>Age</th>           <td>    0.1144</td> <td>    0.063</td> <td>    1.809</td> <td> 0.070</td> <td>   -0.010</td> <td>    0.238</td>\n",
       "</tr>\n",
       "<tr>\n",
       "  <th>Size</th>          <td>    0.0196</td> <td>    0.015</td> <td>    1.303</td> <td> 0.193</td> <td>   -0.010</td> <td>    0.049</td>\n",
       "</tr>\n",
       "<tr>\n",
       "  <th>intercept</th>     <td>    1.8964</td> <td>    0.433</td> <td>    4.377</td> <td> 0.000</td> <td>    1.047</td> <td>    2.746</td>\n",
       "</tr>\n",
       "</table>"
      ],
      "text/plain": [
       "<class 'statsmodels.iolib.summary.Summary'>\n",
       "\"\"\"\n",
       "                     ZeroInflatedPoisson Regression Results                    \n",
       "===============================================================================\n",
       "Dep. Variable:                  Visits   No. Observations:                 2728\n",
       "Model:             ZeroInflatedPoisson   Df Residuals:                     2723\n",
       "Method:                            MLE   Df Model:                            4\n",
       "Date:                 Sun, 22 Mar 2020   Pseudo R-squ.:                0.001982\n",
       "Time:                         18:15:05   Log-Likelihood:                -4297.4\n",
       "converged:                        True   LL-Null:                       -4306.0\n",
       "Covariance Type:             nonrobust   LLR p-value:                  0.001877\n",
       "=================================================================================\n",
       "                    coef    std err          z      P>|z|      [0.025      0.975]\n",
       "---------------------------------------------------------------------------------\n",
       "inflate_const     1.0631      0.045     23.829      0.000       0.976       1.151\n",
       "Income           -0.0898      0.036     -2.461      0.014      -0.161      -0.018\n",
       "Sex              -0.1327      0.043     -3.096      0.002      -0.217      -0.049\n",
       "Age               0.1144      0.063      1.809      0.070      -0.010       0.238\n",
       "Size              0.0196      0.015      1.303      0.193      -0.010       0.049\n",
       "intercept         1.8964      0.433      4.377      0.000       1.047       2.746\n",
       "=================================================================================\n",
       "\"\"\""
      ]
     },
     "execution_count": 36,
     "metadata": {},
     "output_type": "execute_result"
    }
   ],
   "source": [
    "ZeroInflatedPoisson(Y, X).fit().summary()"
   ]
  },
  {
   "cell_type": "markdown",
   "metadata": {},
   "source": [
    "### NBD Regression"
   ]
  },
  {
   "cell_type": "code",
   "execution_count": null,
   "metadata": {},
   "outputs": [],
   "source": []
  }
 ],
 "metadata": {
  "kernelspec": {
   "display_name": "Python 3",
   "language": "python",
   "name": "python3"
  },
  "language_info": {
   "codemirror_mode": {
    "name": "ipython",
    "version": 3
   },
   "file_extension": ".py",
   "mimetype": "text/x-python",
   "name": "python",
   "nbconvert_exporter": "python",
   "pygments_lexer": "ipython3",
   "version": "3.6.5"
  }
 },
 "nbformat": 4,
 "nbformat_minor": 4
}
