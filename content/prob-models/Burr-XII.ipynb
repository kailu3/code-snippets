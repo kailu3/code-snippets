{
 "cells": [
  {
   "cell_type": "markdown",
   "metadata": {},
   "source": [
    "> Modeling timing data (product trial). More specifically, we want to model how long did it take the individual t do behavior of interest. Prob want to clean this up more when I have more time. The nesting of Pareto II inside Weibull doesn't seem very clean right now. Will fix later.."
   ]
  },
  {
   "cell_type": "code",
   "execution_count": 1,
   "metadata": {},
   "outputs": [],
   "source": [
    "import numpy as np\n",
    "import pandas as pd\n",
    "from scipy.optimize import minimize\n",
    "import scipy.special as sc\n",
    "import os\n",
    "from IPython.display import display, Image\n",
    "import plotly.graph_objs as go"
   ]
  },
  {
   "cell_type": "markdown",
   "metadata": {},
   "source": [
    "<div class=\"alert alert-block alert-info\">\n",
    "I actually find it easier to query Inc_trl data than cumulative trial data, which means that the input to my functions will be Week and Inc_trl.\n",
    "</div>\n"
   ]
  },
  {
   "cell_type": "code",
   "execution_count": 81,
   "metadata": {},
   "outputs": [],
   "source": [
    "def compute_probabilities(alpha, r, c, period, inc_trl):\n",
    "    '''Compute the cumulative probability for each time period'''\n",
    "    p = []\n",
    "    for t in np.arange(len(period)):\n",
    "        p.append(1 - (alpha / (alpha + period[t]**c))**r)\n",
    "    return p\n",
    "\n",
    "\n",
    "def log_likelihood(alpha, r, c, period, inc_trl, panel_size):\n",
    "    '''Objective function that we need to maximize to \n",
    "    get best params for alpha, r, (and potentially) c'''\n",
    "    if alpha <= 0 or r <= 0 or c <= 0:\n",
    "        return -99999\n",
    "    cumu_prob = np.array(compute_probabilities(alpha, r, c, period, inc_trl))\n",
    "    \n",
    "    # Compute between period probs\n",
    "    probabilities = [cumu_prob[0]]\n",
    "    for i in np.arange(1, len(cumu_prob)):\n",
    "        probabilities.append(cumu_prob[i] - cumu_prob[i - 1])\n",
    "    \n",
    "    ll = np.sum(np.array(inc_trl) * np.array(np.log(probabilities))) + \\\n",
    "    (panel_size - np.sum(Inc_trl_list)) * np.log(1 - cumu_prob[-1])\n",
    "\n",
    "    return ll\n",
    "\n",
    "\n",
    "def maximize(period, inc_trl, panel_size, duration_dep):\n",
    "    '''Maximize log-likelihood by searching \n",
    "    for best (alpha, r, c) combination'''\n",
    "    if (duration_dep):\n",
    "        func = lambda x: -log_likelihood(x[0], x[1], x[2], period, inc_trl, panel_size)\n",
    "        x0 = np.array([100., 100., 1.])\n",
    "        res = minimize(func, x0, method='Nelder-Mead', options={'xtol': 1e-8, 'disp': False})\n",
    "        return res.x\n",
    "    \n",
    "    func = lambda x: -log_likelihood(x[0], x[1], 1, period, inc_trl, panel_size)\n",
    "    x0 = np.array([100., 100.])\n",
    "    res = minimize(func, x0, method='Nelder-Mead', options={'xtol': 1e-8, 'disp': False})\n",
    "    return res.x\n",
    "\n",
    "\n",
    "def forecast(period, inc_trl, panel_size, duration_dep, num_periods):\n",
    "    '''Fits BurrXII/Pareto II and provides forecast'''\n",
    "    if (duration_dep):\n",
    "        alpha, r, c = maximize(period, inc_trl, panel_size, duration_dep)\n",
    "        num_periods_array = np.arange(1, num_periods + 1)\n",
    "        probabilities = compute_probabilities(alpha, r, c, num_periods_array, inc_trl)\n",
    "        e = []\n",
    "        for i in np.arange(num_periods):\n",
    "            e.append(panel_size * probabilities[i])\n",
    "        return e\n",
    "    \n",
    "    alpha, r = maximize(period, inc_trl, panel_size, duration_dep)\n",
    "    num_periods_array = np.arange(1, num_periods + 1)\n",
    "    probabilities = compute_probabilities(alpha, r, 1, num_periods_array, inc_trl)\n",
    "    e = []\n",
    "    for i in np.arange(num_periods):\n",
    "        e.append(panel_size * probabilities[i])\n",
    "    return e"
   ]
  },
  {
   "cell_type": "markdown",
   "metadata": {},
   "source": [
    "## Example"
   ]
  },
  {
   "cell_type": "code",
   "execution_count": 19,
   "metadata": {},
   "outputs": [],
   "source": [
    "data = pd.read_csv('../data/burr-XII.csv')\n",
    "data['Inc_trl'] = data['# HHs'].diff()\n",
    "data.at[0, 'Inc_trl'] = 8"
   ]
  },
  {
   "cell_type": "code",
   "execution_count": 21,
   "metadata": {},
   "outputs": [
    {
     "data": {
      "text/html": [
       "<div>\n",
       "<style scoped>\n",
       "    .dataframe tbody tr th:only-of-type {\n",
       "        vertical-align: middle;\n",
       "    }\n",
       "\n",
       "    .dataframe tbody tr th {\n",
       "        vertical-align: top;\n",
       "    }\n",
       "\n",
       "    .dataframe thead th {\n",
       "        text-align: right;\n",
       "    }\n",
       "</style>\n",
       "<table border=\"1\" class=\"dataframe\">\n",
       "  <thead>\n",
       "    <tr style=\"text-align: right;\">\n",
       "      <th></th>\n",
       "      <th>Week</th>\n",
       "      <th># HHs</th>\n",
       "      <th>Inc_trl</th>\n",
       "    </tr>\n",
       "  </thead>\n",
       "  <tbody>\n",
       "    <tr>\n",
       "      <th>0</th>\n",
       "      <td>1</td>\n",
       "      <td>8</td>\n",
       "      <td>8.0</td>\n",
       "    </tr>\n",
       "    <tr>\n",
       "      <th>1</th>\n",
       "      <td>2</td>\n",
       "      <td>14</td>\n",
       "      <td>6.0</td>\n",
       "    </tr>\n",
       "    <tr>\n",
       "      <th>2</th>\n",
       "      <td>3</td>\n",
       "      <td>16</td>\n",
       "      <td>2.0</td>\n",
       "    </tr>\n",
       "    <tr>\n",
       "      <th>3</th>\n",
       "      <td>4</td>\n",
       "      <td>32</td>\n",
       "      <td>16.0</td>\n",
       "    </tr>\n",
       "    <tr>\n",
       "      <th>4</th>\n",
       "      <td>5</td>\n",
       "      <td>40</td>\n",
       "      <td>8.0</td>\n",
       "    </tr>\n",
       "  </tbody>\n",
       "</table>\n",
       "</div>"
      ],
      "text/plain": [
       "   Week  # HHs  Inc_trl\n",
       "0     1      8      8.0\n",
       "1     2     14      6.0\n",
       "2     3     16      2.0\n",
       "3     4     32     16.0\n",
       "4     5     40      8.0"
      ]
     },
     "execution_count": 21,
     "metadata": {},
     "output_type": "execute_result"
    }
   ],
   "source": [
    "data.head()"
   ]
  },
  {
   "cell_type": "code",
   "execution_count": 83,
   "metadata": {},
   "outputs": [],
   "source": [
    "# 24-period calibration\n",
    "period_list = data.Week.to_list()[:24]\n",
    "inc_trl_list = data.Inc_trl.to_list()[:24]"
   ]
  },
  {
   "cell_type": "code",
   "execution_count": 84,
   "metadata": {},
   "outputs": [],
   "source": [
    "# Pareto II\n",
    "paretoII = forecast(period_list, inc_trl_list, 1499, False, 52)\n",
    "\n",
    "# Weibull\n",
    "weibull = forecast(period_list, inc_trl_list, 1499, True, 52)"
   ]
  },
  {
   "cell_type": "markdown",
   "metadata": {},
   "source": [
    "## Plot of Results with Holdout"
   ]
  },
  {
   "cell_type": "code",
   "execution_count": 89,
   "metadata": {},
   "outputs": [],
   "source": [
    "fig = go.Figure()\n",
    "\n",
    "# Pareto II\n",
    "fig.add_trace(\n",
    "    go.Scatter(\n",
    "        x=data.Week.to_list(),\n",
    "        y=paretoII,\n",
    "        mode='lines',\n",
    "        name='Pareto II',\n",
    "    )\n",
    ")\n",
    "\n",
    "# Weibull\n",
    "fig.add_trace(\n",
    "    go.Scatter(\n",
    "        x=data.Week.to_list(),\n",
    "        y=weibull,\n",
    "        mode='lines',\n",
    "        name='Weibull')\n",
    ")\n",
    "\n",
    "# Observed\n",
    "fig.add_trace(\n",
    "    go.Scatter(\n",
    "        x=data.Week.to_list(),\n",
    "        y=data['# HHs'],\n",
    "        mode='lines',\n",
    "        name='Actual')\n",
    ")\n",
    "\n",
    "# Plot labels\n",
    "fig.update_layout(title='',\n",
    "                  xaxis_title='Week',\n",
    "                  yaxis_title='# HHs',\n",
    "                  annotations=[      \n",
    "                  ],\n",
    "                )\n",
    "\n",
    "fig.show()"
   ]
  },
  {
   "cell_type": "code",
   "execution_count": 90,
   "metadata": {},
   "outputs": [
    {
     "data": {
      "image/png": "[encoded data removed]",
      "text/plain": [
       "<IPython.core.display.Image object>"
      ]
     },
     "execution_count": 90,
     "metadata": {},
     "output_type": "execute_result"
    }
   ],
   "source": [
    "Image(filename='../images/BurrXII-figure-1.png')"
   ]
  },
  {
   "cell_type": "markdown",
   "metadata": {},
   "source": [
    "<div class=\"alert alert-block alert-info\">\n",
    "Pretty apparent that the Pareto II tends to overforecast since it assumes no hardcore never buyers. Visually, Weibull looks to fit better.\n",
    "</div>\n"
   ]
  },
  {
   "cell_type": "code",
   "execution_count": null,
   "metadata": {},
   "outputs": [],
   "source": []
  }
 ],
 "metadata": {
  "kernelspec": {
   "display_name": "Python 3",
   "language": "python",
   "name": "python3"
  },
  "language_info": {
   "codemirror_mode": {
    "name": "ipython",
    "version": 3
   },
   "file_extension": ".py",
   "mimetype": "text/x-python",
   "name": "python",
   "nbconvert_exporter": "python",
   "pygments_lexer": "ipython3",
   "version": "3.6.5"
  }
 },
 "nbformat": 4,
 "nbformat_minor": 4
}
