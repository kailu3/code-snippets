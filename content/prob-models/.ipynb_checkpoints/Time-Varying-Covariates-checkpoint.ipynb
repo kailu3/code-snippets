{
 "cells": [
  {
   "cell_type": "markdown",
   "metadata": {},
   "source": [
    ">Time Varying Covariates"
   ]
  },
  {
   "cell_type": "code",
   "execution_count": 11,
   "metadata": {},
   "outputs": [],
   "source": [
    "import numpy as np\n",
    "import pandas as pd\n",
    "from scipy.optimize import minimize\n",
    "import scipy.special as sc\n",
    "import os\n",
    "from IPython.display import display, Image\n",
    "import plotly.graph_objs as go\n",
    "from patsy import dmatrices"
   ]
  },
  {
   "cell_type": "markdown",
   "metadata": {},
   "source": [
    "# Functions"
   ]
  },
  {
   "cell_type": "code",
   "execution_count": 459,
   "metadata": {},
   "outputs": [],
   "source": [
    "def compute_period(betas, c, X, Week):\n",
    "    \"\"\"Computes the covariate and duration dependence adjusted period\n",
    "\n",
    "    Args:\n",
    "        betas (list): list of coefficients for each covariate\n",
    "        c (float): duration dependence parameter\n",
    "        X (dataframe): dataframe with covariates\n",
    "        Week (panda Series): week index\n",
    "        \n",
    "    Returns:\n",
    "        A array of numbers with each value representing how much adjusted times\n",
    "        has passed after each Week.\n",
    "\n",
    "    Raises:\n",
    "    \"\"\"\n",
    "    exps = np.array(np.exp(np.sum((X * betas),axis = 1)))\n",
    "    duration_dep = np.array(list((Week ** c)[0:1]) + list((Week ** c).diff()[1:]))\n",
    "    period = np.cumsum(duration_dep*exps)\n",
    "    return period\n",
    "\n",
    "def compute_probabilities(alpha, r, c, betas, X, Week):\n",
    "    \"\"\"Computes the cumulative probability at each period\n",
    "\n",
    "    Args:\n",
    "        alpha (float): scale parameter\n",
    "        r (float): heterogeniety parameter        \n",
    "        c (float): duration dependence parameter\n",
    "        betas (list): list of coefficients for each covariate\n",
    "        X (dataframe): dataframe with covariates\n",
    "        Week (panda Series): week index\n",
    "        \n",
    "    Returns:\n",
    "        A array of probabilities representing the cumulative \n",
    "        probability of an event happening at each period\n",
    "\n",
    "    Raises:\n",
    "    \"\"\"\n",
    "    period = compute_period(betas, c, X, Week)\n",
    "    p = []\n",
    "    for t in np.arange(len(period)):\n",
    "        p.append(1 - (alpha / (alpha + period[t]))**r)\n",
    "    return p\n",
    "\n",
    "def log_likelihood(alpha, r, c, betas, inc_trl, panel_size, X, Week):\n",
    "    \"\"\"Objective function to be optimized\n",
    "    \n",
    "    Args:\n",
    "        alpha (float): scale parameter\n",
    "        r (float): heterogeniety parameter        \n",
    "        c (float): duration dependence parameter\n",
    "        betas (list): list of coefficients for each covariate\n",
    "        inc_trl (panda Series): incremental number of trial per week index\n",
    "        panel_size (int): number of total individual observed\n",
    "        X (dataframe): dataframe with covariates\n",
    "        Week (panda Series): week index\n",
    "        \n",
    "    Returns:\n",
    "        Log Likelihood of observing such parameter given that data\n",
    "\n",
    "    Raises:\n",
    "    \"\"\"\n",
    "    if alpha <= 0 or r <= 0 or c <= 0:\n",
    "        return -99999\n",
    "    cumu_prob = np.array(compute_probabilities(alpha, r, c, betas, X, Week))\n",
    "    \n",
    "    # Compute between period probs\n",
    "    probabilities = [cumu_prob[0]]\n",
    "    for i in np.arange(1, len(cumu_prob)):\n",
    "        probabilities.append(cumu_prob[i] - cumu_prob[i - 1])  \n",
    "    \n",
    "    ll = np.sum(np.array(inc_trl) * np.array(np.log(probabilities))) + \\\n",
    "    (panel_size - np.sum(inc_trl)) * np.log(1 - cumu_prob[-1])\n",
    "\n",
    "    return ll\n",
    "\n",
    "def maximize(expr, data, Week, panel_size, duration_dep):\n",
    "    \"\"\"Optimize the parameters\n",
    "\n",
    "    Args:\n",
    "        expr (string): Target Variable ~ Covariate\n",
    "        data (dataframe): holdout dataframe\n",
    "        Week (panda Series): week index\n",
    "        panel_size (int): number of total individual observed\n",
    "        duration_dep (boolean): do we allow for duration dependence\n",
    "        \n",
    "    Returns:\n",
    "        Optimized parameters and log likelihood\n",
    "\n",
    "    Raises:\n",
    "    \"\"\"\n",
    "    Y,X = dmatrices(expr, data, return_type='dataframe')\n",
    "    X = X.iloc[:,1:]\n",
    "    Y = Y.Inc_HH.to_list()\n",
    "    period = compute_period\n",
    "    if (duration_dep):\n",
    "        func = lambda x: -log_likelihood(x[0], x[1], x[2], x[3:], Y, panel_size, X, Week)\n",
    "        x0 = np.array([1, 1, 1] + [0] * X.shape[1])\n",
    "        bnds = ((0.00001, None), (0.00001, None), (0.00001, None)) + ((None, None),) * X.shape[1]\n",
    "        res = minimize(func, x0, method= \"SLSQP\",bounds=bnds)\n",
    "        return res.x, res.fun\n",
    "    \n",
    "    func = lambda x: -log_likelihood(x[0], x[1], 1, x[2:], Y, panel_size, X, Week)\n",
    "    x0 = np.array([1, 1] + [0] * X.shape[1])\n",
    "    bnds = ((0.00001, None), (0.00001, None)) + ((None, None),) * X.shape[1]\n",
    "    res = minimize(func, x0, method= \"SLSQP\",bounds=bnds)\n",
    "    return res.x, res.fun\n",
    "\n",
    "def forecast(expr, holdout_data, full_data, holdout_Week, panel_size, duration_dep, num_periods):\n",
    "    \"\"\"Forecasts cumulative count\n",
    "\n",
    "    Args:\n",
    "        expr (string): Target Variable ~ Covariate\n",
    "        holdout_data (dataframe): holdout dataframe\n",
    "        full_data (dataframe): complete dataframe\n",
    "        holdout_Week (panda Series): holdout week index\n",
    "        panel_size (int): number of total individual observed\n",
    "        duration_dep (boolean): do we allow for duration dependence\n",
    "        num_periods (int): number of periods to be forecasted\n",
    "        \n",
    "    Returns:\n",
    "        list of number representing the forecasts\n",
    "\n",
    "    Raises:\n",
    "    \"\"\"\n",
    "    if (duration_dep):\n",
    "        params = maximize(expr, holdout_data, holdout_Week, panel_size, duration_dep)[0]\n",
    "        alpha = params[0]\n",
    "        r = params[1]\n",
    "        c = params[2]\n",
    "        betas = params[3:]\n",
    "        num_periods_array = pd.Series(np.arange(1, num_periods + 1))\n",
    "        \n",
    "        Y,X = dmatrices(expr, full_data, return_type='dataframe')\n",
    "        X = X.iloc[:,1:]\n",
    "        probabilities = compute_probabilities(alpha, r, c, betas, X, num_periods_array)\n",
    "        e = []\n",
    "        for i in np.arange(num_periods):\n",
    "            e.append(panel_size * probabilities[i])\n",
    "        return e\n",
    "    \n",
    "    params = maximize(expr, holdout_data, holdout_Week, panel_size, duration_dep)[0]\n",
    "    alpha = params[0]\n",
    "    r = params[1]\n",
    "    betas = params[2:]\n",
    "    num_periods_array = pd.Series(np.arange(1, num_periods + 1))\n",
    "\n",
    "    Y,X = dmatrices(expr, full_data, return_type='dataframe')\n",
    "    X = X.iloc[:,1:]\n",
    "    probabilities = compute_probabilities(alpha, r, 1, betas, X, num_periods_array)\n",
    "    e = []\n",
    "    for i in np.arange(num_periods):\n",
    "        e.append(panel_size * probabilities[i])\n",
    "    return e"
   ]
  },
  {
   "cell_type": "markdown",
   "metadata": {},
   "source": [
    "## Example"
   ]
  },
  {
   "cell_type": "code",
   "execution_count": 460,
   "metadata": {},
   "outputs": [],
   "source": [
    "data = pd.read_csv(\"data/KB covariate models.csv\")\n",
    "data = data.iloc[:,[0,1,3,4]]\n",
    "data.columns = ['Week','Cum_HH','Coupon','AnyP']\n",
    "data['Inc_HH'] = list(data.Cum_HH[0:1]) + list(data.Cum_HH.diff()[1:])"
   ]
  },
  {
   "cell_type": "code",
   "execution_count": 461,
   "metadata": {},
   "outputs": [],
   "source": [
    "expr = \"Inc_HH ~ 1\"\n",
    "Y,X = dmatrices(expr, data, return_type='dataframe')\n",
    "X = X.iloc[:,1:]"
   ]
  },
  {
   "cell_type": "code",
   "execution_count": 462,
   "metadata": {},
   "outputs": [
    {
     "name": "stderr",
     "output_type": "stream",
     "text": [
      "/Users/davidfan/anaconda3/lib/python3.7/site-packages/ipykernel_launcher.py:71: RuntimeWarning:\n",
      "\n",
      "divide by zero encountered in log\n",
      "\n",
      "/Users/davidfan/anaconda3/lib/python3.7/site-packages/ipykernel_launcher.py:71: RuntimeWarning:\n",
      "\n",
      "invalid value encountered in multiply\n",
      "\n"
     ]
    },
    {
     "name": "stdout",
     "output_type": "stream",
     "text": [
      "(array([5.49091903e+01, 1.03130312e-01, 2.31047676e+00, 1.49124019e-02]), 674.0058483731035)\n",
      "(array([9.65803481e+02, 2.15784080e+00, 8.17193451e-01, 3.15511653e+00,\n",
      "       1.49537350e-02]), 673.5900920294705)\n"
     ]
    }
   ],
   "source": [
    "expr = \"Inc_HH ~ Coupon + AnyP\"\n",
    "\n",
    "print(maximize(expr, data.iloc[0:24,:], data.Week[0:24], 1499, False))\n",
    "eg_cov = forecast(expr, data.iloc[0:24,:],data, data.Week[0:24],1499,False,52)\n",
    "\n",
    "print(maximize(expr, data.iloc[0:24,:], data.Week[0:24], 1499, True))\n",
    "wg_cov = forecast(expr, data.iloc[0:24,:],data, data.Week[0:24],1499,True,52)"
   ]
  },
  {
   "cell_type": "code",
   "execution_count": 463,
   "metadata": {},
   "outputs": [
    {
     "name": "stdout",
     "output_type": "stream",
     "text": [
      "(array([7.97299761, 0.05024319]), 681.3729499388786)\n",
      "(array([6.1993001 , 0.03126247, 1.24055989]), 680.9982764221018)\n"
     ]
    }
   ],
   "source": [
    "expr = \"Inc_HH ~ 1\"\n",
    "\n",
    "print(maximize(expr, data.iloc[0:24,:], data.Week[0:24], 1499, False))\n",
    "eg = forecast(expr, data.iloc[0:24,:],data, data.Week[0:24],1499,False,52)\n",
    "\n",
    "print(maximize(expr, data.iloc[0:24,:], data.Week[0:24], 1499, True))\n",
    "wg = forecast(expr, data.iloc[0:24,:],data, data.Week[0:24],1499,True,52)"
   ]
  },
  {
   "cell_type": "code",
   "execution_count": 464,
   "metadata": {},
   "outputs": [
    {
     "data": {
      "application/vnd.plotly.v1+json": {
       "config": {
        "plotlyServerURL": "https://plot.ly"
       },
       "data": [
        {
         "mode": "lines",
         "name": "EG",
         "type": "scatter",
         "x": [
          1,
          2,
          3,
          4,
          5,
          6,
          7,
          8,
          9,
          10,
          11,
          12,
          13,
          14,
          15,
          16,
          17,
          18,
          19,
          20,
          21,
          22,
          23,
          24,
          25,
          26,
          27,
          28,
          29,
          30,
          31,
          32,
          33,
          34,
          35,
          36,
          37,
          38,
          39,
          40,
          41,
          42,
          43,
          44,
          45,
          46,
          47,
          48,
          49,
          50,
          51,
          52
         ],
         "y": [
          8.872748435097751,
          16.76252466948076,
          23.861770182659267,
          30.311730360476144,
          36.21909721042842,
          41.66640465175563,
          46.71879252878373,
          51.42856114607322,
          55.83832867224148,
          59.983275577172,
          63.89277530176404,
          67.59160194734659,
          71.10084002909724,
          74.43858026118329,
          77.62045898850792,
          80.66008156972912,
          83.56935840249903,
          86.35877433969625,
          89.03760671904394,
          91.61410332183857,
          94.09562877454515,
          96.48878587047157,
          98.79951679023064,
          101.03318808449659,
          103.19466244383455,
          105.28835964335815,
          107.31830856170124,
          109.28819179632337,
          111.20138410300726,
          113.06098565643259,
          114.86985094606428,
          116.63061397618844,
          118.3457103224429,
          120.01739650331486,
          121.64776704898325,
          123.23876958789397,
          124.7922182206671,
          126.30980540915057,
          127.79311257387964,
          129.243619564508,
          130.66271314384363,
          132.05169460608897,
          133.41178663304117,
          134.74413947780093,
          136.04983655350787,
          137.32989949440528,
          138.5852927478254,
          139.8169277482426,
          141.02566671815862,
          142.2123261350941,
          143.3776798992237,
          144.52246223210238
         ]
        },
        {
         "mode": "lines",
         "name": "WG",
         "type": "scatter",
         "x": [
          1,
          2,
          3,
          4,
          5,
          6,
          7,
          8,
          9,
          10,
          11,
          12,
          13,
          14,
          15,
          16,
          17,
          18,
          19,
          20,
          21,
          22,
          23,
          24,
          25,
          26,
          27,
          28,
          29,
          30,
          31,
          32,
          33,
          34,
          35,
          36,
          37,
          38,
          39,
          40,
          41,
          42,
          43,
          44,
          45,
          46,
          47,
          48,
          49,
          50,
          51,
          52
         ],
         "y": [
          6.9918009213481565,
          15.056740541025466,
          22.730884697541093,
          29.79441976661476,
          36.24471537298486,
          42.136256898610974,
          47.53457566763426,
          52.501851690391604,
          57.092891649684276,
          61.35467326457872,
          65.32706036197521,
          69.04381284362704,
          72.5335766382697,
          75.82075290122278,
          78.92622737643207,
          81.86797021473369,
          84.66152516139077,
          87.32040763543374,
          89.85642904106984,
          92.27996178574614,
          94.60015673629003,
          96.8251224861372,
          98.96207387516228,
          101.01745565957161,
          102.9970460098246,
          104.90604355661486,
          106.74914095360239,
          108.53058733578935,
          110.2542415883269,
          111.92361797416699,
          113.54192537858458,
          115.11210119749971,
          116.63684071176579,
          118.11862264122304,
          119.55973145262867,
          120.96227689858208,
          122.32821118561918,
          123.65934410511102,
          124.95735640761988,
          126.22381165768283,
          127.46016676984725,
          128.66778139673363,
          129.8479263148559,
          131.00179093295066,
          132.1304900299468,
          133.2350698148613,
          134.31651338834132,
          135.37574567491836,
          136.41363788597332,
          137.43101156566635,
          138.4286422654626,
          139.40726288719398
         ]
        },
        {
         "mode": "lines",
         "name": "EG Covariates",
         "type": "scatter",
         "x": [
          1,
          2,
          3,
          4,
          5,
          6,
          7,
          8,
          9,
          10,
          11,
          12,
          13,
          14,
          15,
          16,
          17,
          18,
          19,
          20,
          21,
          22,
          23,
          24,
          25,
          26,
          27,
          28,
          29,
          30,
          31,
          32,
          33,
          34,
          35,
          36,
          37,
          38,
          39,
          40,
          41,
          42,
          43,
          44,
          45,
          46,
          47,
          48,
          49,
          50,
          51,
          52
         ],
         "y": [
          6.307681227886288,
          12.361075282996504,
          18.38836632503542,
          29.047317543241583,
          37.11845874032925,
          44.10553428413171,
          48.359578205725796,
          50.36631360070612,
          56.0296226074023,
          61.554858271693945,
          69.97146626146375,
          74.42815157089348,
          76.55575275720278,
          78.58329884831838,
          81.61719353542698,
          84.4704552068824,
          87.27289970433112,
          90.11885285120538,
          92.14411235201122,
          93.76322944098068,
          95.16656578803168,
          96.55505535363609,
          98.76871940955164,
          100.98454550889106,
          102.59661966503343,
          103.90883614667008,
          105.99953940889266,
          108.03149233287293,
          109.47121622183693,
          110.71624963100557,
          111.94945315743902,
          113.17103927078085,
          115.08605485633053,
          116.9742563220718,
          118.43551378898067,
          119.59760743383869,
          120.74932250121557,
          121.89083428795995,
          123.0223137570858,
          124.14392767832447,
          125.25583876305542,
          128.27745844446815,
          129.93703595757762,
          131.55055488717105,
          132.74536608755315,
          134.6352686005715,
          138.34407103829523,
          139.986323343868,
          142.69563667986966,
          144.15701336654328,
          145.48061465240355,
          146.78539872074828
         ]
        },
        {
         "mode": "lines",
         "name": "WG covariates",
         "type": "scatter",
         "x": [
          1,
          2,
          3,
          4,
          5,
          6,
          7,
          8,
          9,
          10,
          11,
          12,
          13,
          14,
          15,
          16,
          17,
          18,
          19,
          20,
          21,
          22,
          23,
          24,
          25,
          26,
          27,
          28,
          29,
          30,
          31,
          32,
          33,
          34,
          35,
          36,
          37,
          38,
          39,
          40,
          41,
          42,
          43,
          44,
          45,
          46,
          47,
          48,
          49,
          50,
          51,
          52
         ],
         "y": [
          7.663958569158974,
          13.48346528317471,
          19.03403911067193,
          29.69636010641717,
          37.54795064458769,
          44.22199160354193,
          48.22470599250313,
          50.07731144688355,
          55.30470205226601,
          60.54292914755912,
          69.38879148978391,
          74.0243243895942,
          76.19309426514607,
          78.22590408891807,
          81.25403286539071,
          84.10947301885138,
          86.92983691497982,
          89.81556046452322,
          91.87907191125014,
          93.53159135248636,
          94.96443128895173,
          96.38273829052967,
          98.65490957446906,
          100.94443810081184,
          102.61698040997891,
          103.9808054230946,
          106.16568980806902,
          108.30355776346157,
          109.82435039017844,
          111.14233027180991,
          112.45048929909736,
          113.74916758186656,
          115.79710424580203,
          117.8305491946681,
          119.4120812919205,
          120.67337982626086,
          121.92661483061298,
          123.17201784004007,
          124.40980746686861,
          125.64019044195953,
          126.86336254793896,
          130.22755783292428,
          132.09289924014777,
          133.91832700573124,
          135.27590384946504,
          137.47225695348914,
          142.26937471130725,
          144.33338775192541,
          147.68059864292277,
          149.4666290846023,
          151.07517851567954,
          152.6608663471041
         ]
        },
        {
         "mode": "lines",
         "name": "Actual",
         "type": "scatter",
         "x": [
          1,
          2,
          3,
          4,
          5,
          6,
          7,
          8,
          9,
          10,
          11,
          12,
          13,
          14,
          15,
          16,
          17,
          18,
          19,
          20,
          21,
          22,
          23,
          24,
          25,
          26,
          27,
          28,
          29,
          30,
          31,
          32,
          33,
          34,
          35,
          36,
          37,
          38,
          39,
          40,
          41,
          42,
          43,
          44,
          45,
          46,
          47,
          48,
          49,
          50,
          51,
          52
         ],
         "y": [
          8,
          14,
          16,
          32,
          40,
          47,
          50,
          52,
          57,
          60,
          65,
          67,
          68,
          72,
          75,
          81,
          90,
          94,
          96,
          96,
          96,
          97,
          97,
          101,
          101,
          101,
          105,
          106,
          106,
          118,
          119,
          119,
          120,
          123,
          125,
          125,
          126,
          127,
          127,
          127,
          127,
          128,
          129,
          129,
          129,
          130,
          132,
          133,
          137,
          137,
          137,
          139
         ]
        }
       ],
       "layout": {
        "template": {
         "data": {
          "bar": [
           {
            "error_x": {
             "color": "#2a3f5f"
            },
            "error_y": {
             "color": "#2a3f5f"
            },
            "marker": {
             "line": {
              "color": "#E5ECF6",
              "width": 0.5
             }
            },
            "type": "bar"
           }
          ],
          "barpolar": [
           {
            "marker": {
             "line": {
              "color": "#E5ECF6",
              "width": 0.5
             }
            },
            "type": "barpolar"
           }
          ],
          "carpet": [
           {
            "aaxis": {
             "endlinecolor": "#2a3f5f",
             "gridcolor": "white",
             "linecolor": "white",
             "minorgridcolor": "white",
             "startlinecolor": "#2a3f5f"
            },
            "baxis": {
             "endlinecolor": "#2a3f5f",
             "gridcolor": "white",
             "linecolor": "white",
             "minorgridcolor": "white",
             "startlinecolor": "#2a3f5f"
            },
            "type": "carpet"
           }
          ],
          "choropleth": [
           {
            "colorbar": {
             "outlinewidth": 0,
             "ticks": ""
            },
            "type": "choropleth"
           }
          ],
          "contour": [
           {
            "colorbar": {
             "outlinewidth": 0,
             "ticks": ""
            },
            "colorscale": [
             [
              0,
              "#0d0887"
             ],
             [
              0.1111111111111111,
              "#46039f"
             ],
             [
              0.2222222222222222,
              "#7201a8"
             ],
             [
              0.3333333333333333,
              "#9c179e"
             ],
             [
              0.4444444444444444,
              "#bd3786"
             ],
             [
              0.5555555555555556,
              "#d8576b"
             ],
             [
              0.6666666666666666,
              "#ed7953"
             ],
             [
              0.7777777777777778,
              "#fb9f3a"
             ],
             [
              0.8888888888888888,
              "#fdca26"
             ],
             [
              1,
              "#f0f921"
             ]
            ],
            "type": "contour"
           }
          ],
          "contourcarpet": [
           {
            "colorbar": {
             "outlinewidth": 0,
             "ticks": ""
            },
            "type": "contourcarpet"
           }
          ],
          "heatmap": [
           {
            "colorbar": {
             "outlinewidth": 0,
             "ticks": ""
            },
            "colorscale": [
             [
              0,
              "#0d0887"
             ],
             [
              0.1111111111111111,
              "#46039f"
             ],
             [
              0.2222222222222222,
              "#7201a8"
             ],
             [
              0.3333333333333333,
              "#9c179e"
             ],
             [
              0.4444444444444444,
              "#bd3786"
             ],
             [
              0.5555555555555556,
              "#d8576b"
             ],
             [
              0.6666666666666666,
              "#ed7953"
             ],
             [
              0.7777777777777778,
              "#fb9f3a"
             ],
             [
              0.8888888888888888,
              "#fdca26"
             ],
             [
              1,
              "#f0f921"
             ]
            ],
            "type": "heatmap"
           }
          ],
          "heatmapgl": [
           {
            "colorbar": {
             "outlinewidth": 0,
             "ticks": ""
            },
            "colorscale": [
             [
              0,
              "#0d0887"
             ],
             [
              0.1111111111111111,
              "#46039f"
             ],
             [
              0.2222222222222222,
              "#7201a8"
             ],
             [
              0.3333333333333333,
              "#9c179e"
             ],
             [
              0.4444444444444444,
              "#bd3786"
             ],
             [
              0.5555555555555556,
              "#d8576b"
             ],
             [
              0.6666666666666666,
              "#ed7953"
             ],
             [
              0.7777777777777778,
              "#fb9f3a"
             ],
             [
              0.8888888888888888,
              "#fdca26"
             ],
             [
              1,
              "#f0f921"
             ]
            ],
            "type": "heatmapgl"
           }
          ],
          "histogram": [
           {
            "marker": {
             "colorbar": {
              "outlinewidth": 0,
              "ticks": ""
             }
            },
            "type": "histogram"
           }
          ],
          "histogram2d": [
           {
            "colorbar": {
             "outlinewidth": 0,
             "ticks": ""
            },
            "colorscale": [
             [
              0,
              "#0d0887"
             ],
             [
              0.1111111111111111,
              "#46039f"
             ],
             [
              0.2222222222222222,
              "#7201a8"
             ],
             [
              0.3333333333333333,
              "#9c179e"
             ],
             [
              0.4444444444444444,
              "#bd3786"
             ],
             [
              0.5555555555555556,
              "#d8576b"
             ],
             [
              0.6666666666666666,
              "#ed7953"
             ],
             [
              0.7777777777777778,
              "#fb9f3a"
             ],
             [
              0.8888888888888888,
              "#fdca26"
             ],
             [
              1,
              "#f0f921"
             ]
            ],
            "type": "histogram2d"
           }
          ],
          "histogram2dcontour": [
           {
            "colorbar": {
             "outlinewidth": 0,
             "ticks": ""
            },
            "colorscale": [
             [
              0,
              "#0d0887"
             ],
             [
              0.1111111111111111,
              "#46039f"
             ],
             [
              0.2222222222222222,
              "#7201a8"
             ],
             [
              0.3333333333333333,
              "#9c179e"
             ],
             [
              0.4444444444444444,
              "#bd3786"
             ],
             [
              0.5555555555555556,
              "#d8576b"
             ],
             [
              0.6666666666666666,
              "#ed7953"
             ],
             [
              0.7777777777777778,
              "#fb9f3a"
             ],
             [
              0.8888888888888888,
              "#fdca26"
             ],
             [
              1,
              "#f0f921"
             ]
            ],
            "type": "histogram2dcontour"
           }
          ],
          "mesh3d": [
           {
            "colorbar": {
             "outlinewidth": 0,
             "ticks": ""
            },
            "type": "mesh3d"
           }
          ],
          "parcoords": [
           {
            "line": {
             "colorbar": {
              "outlinewidth": 0,
              "ticks": ""
             }
            },
            "type": "parcoords"
           }
          ],
          "pie": [
           {
            "automargin": true,
            "type": "pie"
           }
          ],
          "scatter": [
           {
            "marker": {
             "colorbar": {
              "outlinewidth": 0,
              "ticks": ""
             }
            },
            "type": "scatter"
           }
          ],
          "scatter3d": [
           {
            "line": {
             "colorbar": {
              "outlinewidth": 0,
              "ticks": ""
             }
            },
            "marker": {
             "colorbar": {
              "outlinewidth": 0,
              "ticks": ""
             }
            },
            "type": "scatter3d"
           }
          ],
          "scattercarpet": [
           {
            "marker": {
             "colorbar": {
              "outlinewidth": 0,
              "ticks": ""
             }
            },
            "type": "scattercarpet"
           }
          ],
          "scattergeo": [
           {
            "marker": {
             "colorbar": {
              "outlinewidth": 0,
              "ticks": ""
             }
            },
            "type": "scattergeo"
           }
          ],
          "scattergl": [
           {
            "marker": {
             "colorbar": {
              "outlinewidth": 0,
              "ticks": ""
             }
            },
            "type": "scattergl"
           }
          ],
          "scattermapbox": [
           {
            "marker": {
             "colorbar": {
              "outlinewidth": 0,
              "ticks": ""
             }
            },
            "type": "scattermapbox"
           }
          ],
          "scatterpolar": [
           {
            "marker": {
             "colorbar": {
              "outlinewidth": 0,
              "ticks": ""
             }
            },
            "type": "scatterpolar"
           }
          ],
          "scatterpolargl": [
           {
            "marker": {
             "colorbar": {
              "outlinewidth": 0,
              "ticks": ""
             }
            },
            "type": "scatterpolargl"
           }
          ],
          "scatterternary": [
           {
            "marker": {
             "colorbar": {
              "outlinewidth": 0,
              "ticks": ""
             }
            },
            "type": "scatterternary"
           }
          ],
          "surface": [
           {
            "colorbar": {
             "outlinewidth": 0,
             "ticks": ""
            },
            "colorscale": [
             [
              0,
              "#0d0887"
             ],
             [
              0.1111111111111111,
              "#46039f"
             ],
             [
              0.2222222222222222,
              "#7201a8"
             ],
             [
              0.3333333333333333,
              "#9c179e"
             ],
             [
              0.4444444444444444,
              "#bd3786"
             ],
             [
              0.5555555555555556,
              "#d8576b"
             ],
             [
              0.6666666666666666,
              "#ed7953"
             ],
             [
              0.7777777777777778,
              "#fb9f3a"
             ],
             [
              0.8888888888888888,
              "#fdca26"
             ],
             [
              1,
              "#f0f921"
             ]
            ],
            "type": "surface"
           }
          ],
          "table": [
           {
            "cells": {
             "fill": {
              "color": "#EBF0F8"
             },
             "line": {
              "color": "white"
             }
            },
            "header": {
             "fill": {
              "color": "#C8D4E3"
             },
             "line": {
              "color": "white"
             }
            },
            "type": "table"
           }
          ]
         },
         "layout": {
          "annotationdefaults": {
           "arrowcolor": "#2a3f5f",
           "arrowhead": 0,
           "arrowwidth": 1
          },
          "coloraxis": {
           "colorbar": {
            "outlinewidth": 0,
            "ticks": ""
           }
          },
          "colorscale": {
           "diverging": [
            [
             0,
             "#8e0152"
            ],
            [
             0.1,
             "#c51b7d"
            ],
            [
             0.2,
             "#de77ae"
            ],
            [
             0.3,
             "#f1b6da"
            ],
            [
             0.4,
             "#fde0ef"
            ],
            [
             0.5,
             "#f7f7f7"
            ],
            [
             0.6,
             "#e6f5d0"
            ],
            [
             0.7,
             "#b8e186"
            ],
            [
             0.8,
             "#7fbc41"
            ],
            [
             0.9,
             "#4d9221"
            ],
            [
             1,
             "#276419"
            ]
           ],
           "sequential": [
            [
             0,
             "#0d0887"
            ],
            [
             0.1111111111111111,
             "#46039f"
            ],
            [
             0.2222222222222222,
             "#7201a8"
            ],
            [
             0.3333333333333333,
             "#9c179e"
            ],
            [
             0.4444444444444444,
             "#bd3786"
            ],
            [
             0.5555555555555556,
             "#d8576b"
            ],
            [
             0.6666666666666666,
             "#ed7953"
            ],
            [
             0.7777777777777778,
             "#fb9f3a"
            ],
            [
             0.8888888888888888,
             "#fdca26"
            ],
            [
             1,
             "#f0f921"
            ]
           ],
           "sequentialminus": [
            [
             0,
             "#0d0887"
            ],
            [
             0.1111111111111111,
             "#46039f"
            ],
            [
             0.2222222222222222,
             "#7201a8"
            ],
            [
             0.3333333333333333,
             "#9c179e"
            ],
            [
             0.4444444444444444,
             "#bd3786"
            ],
            [
             0.5555555555555556,
             "#d8576b"
            ],
            [
             0.6666666666666666,
             "#ed7953"
            ],
            [
             0.7777777777777778,
             "#fb9f3a"
            ],
            [
             0.8888888888888888,
             "#fdca26"
            ],
            [
             1,
             "#f0f921"
            ]
           ]
          },
          "colorway": [
           "#636efa",
           "#EF553B",
           "#00cc96",
           "#ab63fa",
           "#FFA15A",
           "#19d3f3",
           "#FF6692",
           "#B6E880",
           "#FF97FF",
           "#FECB52"
          ],
          "font": {
           "color": "#2a3f5f"
          },
          "geo": {
           "bgcolor": "white",
           "lakecolor": "white",
           "landcolor": "#E5ECF6",
           "showlakes": true,
           "showland": true,
           "subunitcolor": "white"
          },
          "hoverlabel": {
           "align": "left"
          },
          "hovermode": "closest",
          "mapbox": {
           "style": "light"
          },
          "paper_bgcolor": "white",
          "plot_bgcolor": "#E5ECF6",
          "polar": {
           "angularaxis": {
            "gridcolor": "white",
            "linecolor": "white",
            "ticks": ""
           },
           "bgcolor": "#E5ECF6",
           "radialaxis": {
            "gridcolor": "white",
            "linecolor": "white",
            "ticks": ""
           }
          },
          "scene": {
           "xaxis": {
            "backgroundcolor": "#E5ECF6",
            "gridcolor": "white",
            "gridwidth": 2,
            "linecolor": "white",
            "showbackground": true,
            "ticks": "",
            "zerolinecolor": "white"
           },
           "yaxis": {
            "backgroundcolor": "#E5ECF6",
            "gridcolor": "white",
            "gridwidth": 2,
            "linecolor": "white",
            "showbackground": true,
            "ticks": "",
            "zerolinecolor": "white"
           },
           "zaxis": {
            "backgroundcolor": "#E5ECF6",
            "gridcolor": "white",
            "gridwidth": 2,
            "linecolor": "white",
            "showbackground": true,
            "ticks": "",
            "zerolinecolor": "white"
           }
          },
          "shapedefaults": {
           "line": {
            "color": "#2a3f5f"
           }
          },
          "ternary": {
           "aaxis": {
            "gridcolor": "white",
            "linecolor": "white",
            "ticks": ""
           },
           "baxis": {
            "gridcolor": "white",
            "linecolor": "white",
            "ticks": ""
           },
           "bgcolor": "#E5ECF6",
           "caxis": {
            "gridcolor": "white",
            "linecolor": "white",
            "ticks": ""
           }
          },
          "title": {
           "x": 0.05
          },
          "xaxis": {
           "automargin": true,
           "gridcolor": "white",
           "linecolor": "white",
           "ticks": "",
           "title": {
            "standoff": 15
           },
           "zerolinecolor": "white",
           "zerolinewidth": 2
          },
          "yaxis": {
           "automargin": true,
           "gridcolor": "white",
           "linecolor": "white",
           "ticks": "",
           "title": {
            "standoff": 15
           },
           "zerolinecolor": "white",
           "zerolinewidth": 2
          }
         }
        },
        "title": {
         "text": ""
        },
        "xaxis": {
         "title": {
          "text": "Week"
         }
        },
        "yaxis": {
         "title": {
          "text": "# HHs"
         }
        }
       }
      },
      "text/html": [
       "<div>\n",
       "        \n",
       "        \n",
       "            <div id=\"163799cf-efaa-49fc-a969-f47785fe44e9\" class=\"plotly-graph-div\" style=\"height:525px; width:100%;\"></div>\n",
       "            <script type=\"text/javascript\">\n",
       "                require([\"plotly\"], function(Plotly) {\n",
       "                    window.PLOTLYENV=window.PLOTLYENV || {};\n",
       "                    \n",
       "                if (document.getElementById(\"163799cf-efaa-49fc-a969-f47785fe44e9\")) {\n",
       "                    Plotly.newPlot(\n",
       "                        '163799cf-efaa-49fc-a969-f47785fe44e9',\n",
       "                        [{\"mode\": \"lines\", \"name\": \"EG\", \"type\": \"scatter\", \"x\": [1, 2, 3, 4, 5, 6, 7, 8, 9, 10, 11, 12, 13, 14, 15, 16, 17, 18, 19, 20, 21, 22, 23, 24, 25, 26, 27, 28, 29, 30, 31, 32, 33, 34, 35, 36, 37, 38, 39, 40, 41, 42, 43, 44, 45, 46, 47, 48, 49, 50, 51, 52], \"y\": [8.872748435097751, 16.76252466948076, 23.861770182659267, 30.311730360476144, 36.21909721042842, 41.66640465175563, 46.71879252878373, 51.42856114607322, 55.83832867224148, 59.983275577172, 63.89277530176404, 67.59160194734659, 71.10084002909724, 74.43858026118329, 77.62045898850792, 80.66008156972912, 83.56935840249903, 86.35877433969625, 89.03760671904394, 91.61410332183857, 94.09562877454515, 96.48878587047157, 98.79951679023064, 101.03318808449659, 103.19466244383455, 105.28835964335815, 107.31830856170124, 109.28819179632337, 111.20138410300726, 113.06098565643259, 114.86985094606428, 116.63061397618844, 118.3457103224429, 120.01739650331486, 121.64776704898325, 123.23876958789397, 124.7922182206671, 126.30980540915057, 127.79311257387964, 129.243619564508, 130.66271314384363, 132.05169460608897, 133.41178663304117, 134.74413947780093, 136.04983655350787, 137.32989949440528, 138.5852927478254, 139.8169277482426, 141.02566671815862, 142.2123261350941, 143.3776798992237, 144.52246223210238]}, {\"mode\": \"lines\", \"name\": \"WG\", \"type\": \"scatter\", \"x\": [1, 2, 3, 4, 5, 6, 7, 8, 9, 10, 11, 12, 13, 14, 15, 16, 17, 18, 19, 20, 21, 22, 23, 24, 25, 26, 27, 28, 29, 30, 31, 32, 33, 34, 35, 36, 37, 38, 39, 40, 41, 42, 43, 44, 45, 46, 47, 48, 49, 50, 51, 52], \"y\": [6.9918009213481565, 15.056740541025466, 22.730884697541093, 29.79441976661476, 36.24471537298486, 42.136256898610974, 47.53457566763426, 52.501851690391604, 57.092891649684276, 61.35467326457872, 65.32706036197521, 69.04381284362704, 72.5335766382697, 75.82075290122278, 78.92622737643207, 81.86797021473369, 84.66152516139077, 87.32040763543374, 89.85642904106984, 92.27996178574614, 94.60015673629003, 96.8251224861372, 98.96207387516228, 101.01745565957161, 102.9970460098246, 104.90604355661486, 106.74914095360239, 108.53058733578935, 110.2542415883269, 111.92361797416699, 113.54192537858458, 115.11210119749971, 116.63684071176579, 118.11862264122304, 119.55973145262867, 120.96227689858208, 122.32821118561918, 123.65934410511102, 124.95735640761988, 126.22381165768283, 127.46016676984725, 128.66778139673363, 129.8479263148559, 131.00179093295066, 132.1304900299468, 133.2350698148613, 134.31651338834132, 135.37574567491836, 136.41363788597332, 137.43101156566635, 138.4286422654626, 139.40726288719398]}, {\"mode\": \"lines\", \"name\": \"EG Covariates\", \"type\": \"scatter\", \"x\": [1, 2, 3, 4, 5, 6, 7, 8, 9, 10, 11, 12, 13, 14, 15, 16, 17, 18, 19, 20, 21, 22, 23, 24, 25, 26, 27, 28, 29, 30, 31, 32, 33, 34, 35, 36, 37, 38, 39, 40, 41, 42, 43, 44, 45, 46, 47, 48, 49, 50, 51, 52], \"y\": [6.307681227886288, 12.361075282996504, 18.38836632503542, 29.047317543241583, 37.11845874032925, 44.10553428413171, 48.359578205725796, 50.36631360070612, 56.0296226074023, 61.554858271693945, 69.97146626146375, 74.42815157089348, 76.55575275720278, 78.58329884831838, 81.61719353542698, 84.4704552068824, 87.27289970433112, 90.11885285120538, 92.14411235201122, 93.76322944098068, 95.16656578803168, 96.55505535363609, 98.76871940955164, 100.98454550889106, 102.59661966503343, 103.90883614667008, 105.99953940889266, 108.03149233287293, 109.47121622183693, 110.71624963100557, 111.94945315743902, 113.17103927078085, 115.08605485633053, 116.9742563220718, 118.43551378898067, 119.59760743383869, 120.74932250121557, 121.89083428795995, 123.0223137570858, 124.14392767832447, 125.25583876305542, 128.27745844446815, 129.93703595757762, 131.55055488717105, 132.74536608755315, 134.6352686005715, 138.34407103829523, 139.986323343868, 142.69563667986966, 144.15701336654328, 145.48061465240355, 146.78539872074828]}, {\"mode\": \"lines\", \"name\": \"WG covariates\", \"type\": \"scatter\", \"x\": [1, 2, 3, 4, 5, 6, 7, 8, 9, 10, 11, 12, 13, 14, 15, 16, 17, 18, 19, 20, 21, 22, 23, 24, 25, 26, 27, 28, 29, 30, 31, 32, 33, 34, 35, 36, 37, 38, 39, 40, 41, 42, 43, 44, 45, 46, 47, 48, 49, 50, 51, 52], \"y\": [7.663958569158974, 13.48346528317471, 19.03403911067193, 29.69636010641717, 37.54795064458769, 44.22199160354193, 48.22470599250313, 50.07731144688355, 55.30470205226601, 60.54292914755912, 69.38879148978391, 74.0243243895942, 76.19309426514607, 78.22590408891807, 81.25403286539071, 84.10947301885138, 86.92983691497982, 89.81556046452322, 91.87907191125014, 93.53159135248636, 94.96443128895173, 96.38273829052967, 98.65490957446906, 100.94443810081184, 102.61698040997891, 103.9808054230946, 106.16568980806902, 108.30355776346157, 109.82435039017844, 111.14233027180991, 112.45048929909736, 113.74916758186656, 115.79710424580203, 117.8305491946681, 119.4120812919205, 120.67337982626086, 121.92661483061298, 123.17201784004007, 124.40980746686861, 125.64019044195953, 126.86336254793896, 130.22755783292428, 132.09289924014777, 133.91832700573124, 135.27590384946504, 137.47225695348914, 142.26937471130725, 144.33338775192541, 147.68059864292277, 149.4666290846023, 151.07517851567954, 152.6608663471041]}, {\"mode\": \"lines\", \"name\": \"Actual\", \"type\": \"scatter\", \"x\": [1, 2, 3, 4, 5, 6, 7, 8, 9, 10, 11, 12, 13, 14, 15, 16, 17, 18, 19, 20, 21, 22, 23, 24, 25, 26, 27, 28, 29, 30, 31, 32, 33, 34, 35, 36, 37, 38, 39, 40, 41, 42, 43, 44, 45, 46, 47, 48, 49, 50, 51, 52], \"y\": [8, 14, 16, 32, 40, 47, 50, 52, 57, 60, 65, 67, 68, 72, 75, 81, 90, 94, 96, 96, 96, 97, 97, 101, 101, 101, 105, 106, 106, 118, 119, 119, 120, 123, 125, 125, 126, 127, 127, 127, 127, 128, 129, 129, 129, 130, 132, 133, 137, 137, 137, 139]}],\n",
       "                        {\"template\": {\"data\": {\"bar\": [{\"error_x\": {\"color\": \"#2a3f5f\"}, \"error_y\": {\"color\": \"#2a3f5f\"}, \"marker\": {\"line\": {\"color\": \"#E5ECF6\", \"width\": 0.5}}, \"type\": \"bar\"}], \"barpolar\": [{\"marker\": {\"line\": {\"color\": \"#E5ECF6\", \"width\": 0.5}}, \"type\": \"barpolar\"}], \"carpet\": [{\"aaxis\": {\"endlinecolor\": \"#2a3f5f\", \"gridcolor\": \"white\", \"linecolor\": \"white\", \"minorgridcolor\": \"white\", \"startlinecolor\": \"#2a3f5f\"}, \"baxis\": {\"endlinecolor\": \"#2a3f5f\", \"gridcolor\": \"white\", \"linecolor\": \"white\", \"minorgridcolor\": \"white\", \"startlinecolor\": \"#2a3f5f\"}, \"type\": \"carpet\"}], \"choropleth\": [{\"colorbar\": {\"outlinewidth\": 0, \"ticks\": \"\"}, \"type\": \"choropleth\"}], \"contour\": [{\"colorbar\": {\"outlinewidth\": 0, \"ticks\": \"\"}, \"colorscale\": [[0.0, \"#0d0887\"], [0.1111111111111111, \"#46039f\"], [0.2222222222222222, \"#7201a8\"], [0.3333333333333333, \"#9c179e\"], [0.4444444444444444, \"#bd3786\"], [0.5555555555555556, \"#d8576b\"], [0.6666666666666666, \"#ed7953\"], [0.7777777777777778, \"#fb9f3a\"], [0.8888888888888888, \"#fdca26\"], [1.0, \"#f0f921\"]], \"type\": \"contour\"}], \"contourcarpet\": [{\"colorbar\": {\"outlinewidth\": 0, \"ticks\": \"\"}, \"type\": \"contourcarpet\"}], \"heatmap\": [{\"colorbar\": {\"outlinewidth\": 0, \"ticks\": \"\"}, \"colorscale\": [[0.0, \"#0d0887\"], [0.1111111111111111, \"#46039f\"], [0.2222222222222222, \"#7201a8\"], [0.3333333333333333, \"#9c179e\"], [0.4444444444444444, \"#bd3786\"], [0.5555555555555556, \"#d8576b\"], [0.6666666666666666, \"#ed7953\"], [0.7777777777777778, \"#fb9f3a\"], [0.8888888888888888, \"#fdca26\"], [1.0, \"#f0f921\"]], \"type\": \"heatmap\"}], \"heatmapgl\": [{\"colorbar\": {\"outlinewidth\": 0, \"ticks\": \"\"}, \"colorscale\": [[0.0, \"#0d0887\"], [0.1111111111111111, \"#46039f\"], [0.2222222222222222, \"#7201a8\"], [0.3333333333333333, \"#9c179e\"], [0.4444444444444444, \"#bd3786\"], [0.5555555555555556, \"#d8576b\"], [0.6666666666666666, \"#ed7953\"], [0.7777777777777778, \"#fb9f3a\"], [0.8888888888888888, \"#fdca26\"], [1.0, \"#f0f921\"]], \"type\": \"heatmapgl\"}], \"histogram\": [{\"marker\": {\"colorbar\": {\"outlinewidth\": 0, \"ticks\": \"\"}}, \"type\": \"histogram\"}], \"histogram2d\": [{\"colorbar\": {\"outlinewidth\": 0, \"ticks\": \"\"}, \"colorscale\": [[0.0, \"#0d0887\"], [0.1111111111111111, \"#46039f\"], [0.2222222222222222, \"#7201a8\"], [0.3333333333333333, \"#9c179e\"], [0.4444444444444444, \"#bd3786\"], [0.5555555555555556, \"#d8576b\"], [0.6666666666666666, \"#ed7953\"], [0.7777777777777778, \"#fb9f3a\"], [0.8888888888888888, \"#fdca26\"], [1.0, \"#f0f921\"]], \"type\": \"histogram2d\"}], \"histogram2dcontour\": [{\"colorbar\": {\"outlinewidth\": 0, \"ticks\": \"\"}, \"colorscale\": [[0.0, \"#0d0887\"], [0.1111111111111111, \"#46039f\"], [0.2222222222222222, \"#7201a8\"], [0.3333333333333333, \"#9c179e\"], [0.4444444444444444, \"#bd3786\"], [0.5555555555555556, \"#d8576b\"], [0.6666666666666666, \"#ed7953\"], [0.7777777777777778, \"#fb9f3a\"], [0.8888888888888888, \"#fdca26\"], [1.0, \"#f0f921\"]], \"type\": \"histogram2dcontour\"}], \"mesh3d\": [{\"colorbar\": {\"outlinewidth\": 0, \"ticks\": \"\"}, \"type\": \"mesh3d\"}], \"parcoords\": [{\"line\": {\"colorbar\": {\"outlinewidth\": 0, \"ticks\": \"\"}}, \"type\": \"parcoords\"}], \"pie\": [{\"automargin\": true, \"type\": \"pie\"}], \"scatter\": [{\"marker\": {\"colorbar\": {\"outlinewidth\": 0, \"ticks\": \"\"}}, \"type\": \"scatter\"}], \"scatter3d\": [{\"line\": {\"colorbar\": {\"outlinewidth\": 0, \"ticks\": \"\"}}, \"marker\": {\"colorbar\": {\"outlinewidth\": 0, \"ticks\": \"\"}}, \"type\": \"scatter3d\"}], \"scattercarpet\": [{\"marker\": {\"colorbar\": {\"outlinewidth\": 0, \"ticks\": \"\"}}, \"type\": \"scattercarpet\"}], \"scattergeo\": [{\"marker\": {\"colorbar\": {\"outlinewidth\": 0, \"ticks\": \"\"}}, \"type\": \"scattergeo\"}], \"scattergl\": [{\"marker\": {\"colorbar\": {\"outlinewidth\": 0, \"ticks\": \"\"}}, \"type\": \"scattergl\"}], \"scattermapbox\": [{\"marker\": {\"colorbar\": {\"outlinewidth\": 0, \"ticks\": \"\"}}, \"type\": \"scattermapbox\"}], \"scatterpolar\": [{\"marker\": {\"colorbar\": {\"outlinewidth\": 0, \"ticks\": \"\"}}, \"type\": \"scatterpolar\"}], \"scatterpolargl\": [{\"marker\": {\"colorbar\": {\"outlinewidth\": 0, \"ticks\": \"\"}}, \"type\": \"scatterpolargl\"}], \"scatterternary\": [{\"marker\": {\"colorbar\": {\"outlinewidth\": 0, \"ticks\": \"\"}}, \"type\": \"scatterternary\"}], \"surface\": [{\"colorbar\": {\"outlinewidth\": 0, \"ticks\": \"\"}, \"colorscale\": [[0.0, \"#0d0887\"], [0.1111111111111111, \"#46039f\"], [0.2222222222222222, \"#7201a8\"], [0.3333333333333333, \"#9c179e\"], [0.4444444444444444, \"#bd3786\"], [0.5555555555555556, \"#d8576b\"], [0.6666666666666666, \"#ed7953\"], [0.7777777777777778, \"#fb9f3a\"], [0.8888888888888888, \"#fdca26\"], [1.0, \"#f0f921\"]], \"type\": \"surface\"}], \"table\": [{\"cells\": {\"fill\": {\"color\": \"#EBF0F8\"}, \"line\": {\"color\": \"white\"}}, \"header\": {\"fill\": {\"color\": \"#C8D4E3\"}, \"line\": {\"color\": \"white\"}}, \"type\": \"table\"}]}, \"layout\": {\"annotationdefaults\": {\"arrowcolor\": \"#2a3f5f\", \"arrowhead\": 0, \"arrowwidth\": 1}, \"coloraxis\": {\"colorbar\": {\"outlinewidth\": 0, \"ticks\": \"\"}}, \"colorscale\": {\"diverging\": [[0, \"#8e0152\"], [0.1, \"#c51b7d\"], [0.2, \"#de77ae\"], [0.3, \"#f1b6da\"], [0.4, \"#fde0ef\"], [0.5, \"#f7f7f7\"], [0.6, \"#e6f5d0\"], [0.7, \"#b8e186\"], [0.8, \"#7fbc41\"], [0.9, \"#4d9221\"], [1, \"#276419\"]], \"sequential\": [[0.0, \"#0d0887\"], [0.1111111111111111, \"#46039f\"], [0.2222222222222222, \"#7201a8\"], [0.3333333333333333, \"#9c179e\"], [0.4444444444444444, \"#bd3786\"], [0.5555555555555556, \"#d8576b\"], [0.6666666666666666, \"#ed7953\"], [0.7777777777777778, \"#fb9f3a\"], [0.8888888888888888, \"#fdca26\"], [1.0, \"#f0f921\"]], \"sequentialminus\": [[0.0, \"#0d0887\"], [0.1111111111111111, \"#46039f\"], [0.2222222222222222, \"#7201a8\"], [0.3333333333333333, \"#9c179e\"], [0.4444444444444444, \"#bd3786\"], [0.5555555555555556, \"#d8576b\"], [0.6666666666666666, \"#ed7953\"], [0.7777777777777778, \"#fb9f3a\"], [0.8888888888888888, \"#fdca26\"], [1.0, \"#f0f921\"]]}, \"colorway\": [\"#636efa\", \"#EF553B\", \"#00cc96\", \"#ab63fa\", \"#FFA15A\", \"#19d3f3\", \"#FF6692\", \"#B6E880\", \"#FF97FF\", \"#FECB52\"], \"font\": {\"color\": \"#2a3f5f\"}, \"geo\": {\"bgcolor\": \"white\", \"lakecolor\": \"white\", \"landcolor\": \"#E5ECF6\", \"showlakes\": true, \"showland\": true, \"subunitcolor\": \"white\"}, \"hoverlabel\": {\"align\": \"left\"}, \"hovermode\": \"closest\", \"mapbox\": {\"style\": \"light\"}, \"paper_bgcolor\": \"white\", \"plot_bgcolor\": \"#E5ECF6\", \"polar\": {\"angularaxis\": {\"gridcolor\": \"white\", \"linecolor\": \"white\", \"ticks\": \"\"}, \"bgcolor\": \"#E5ECF6\", \"radialaxis\": {\"gridcolor\": \"white\", \"linecolor\": \"white\", \"ticks\": \"\"}}, \"scene\": {\"xaxis\": {\"backgroundcolor\": \"#E5ECF6\", \"gridcolor\": \"white\", \"gridwidth\": 2, \"linecolor\": \"white\", \"showbackground\": true, \"ticks\": \"\", \"zerolinecolor\": \"white\"}, \"yaxis\": {\"backgroundcolor\": \"#E5ECF6\", \"gridcolor\": \"white\", \"gridwidth\": 2, \"linecolor\": \"white\", \"showbackground\": true, \"ticks\": \"\", \"zerolinecolor\": \"white\"}, \"zaxis\": {\"backgroundcolor\": \"#E5ECF6\", \"gridcolor\": \"white\", \"gridwidth\": 2, \"linecolor\": \"white\", \"showbackground\": true, \"ticks\": \"\", \"zerolinecolor\": \"white\"}}, \"shapedefaults\": {\"line\": {\"color\": \"#2a3f5f\"}}, \"ternary\": {\"aaxis\": {\"gridcolor\": \"white\", \"linecolor\": \"white\", \"ticks\": \"\"}, \"baxis\": {\"gridcolor\": \"white\", \"linecolor\": \"white\", \"ticks\": \"\"}, \"bgcolor\": \"#E5ECF6\", \"caxis\": {\"gridcolor\": \"white\", \"linecolor\": \"white\", \"ticks\": \"\"}}, \"title\": {\"x\": 0.05}, \"xaxis\": {\"automargin\": true, \"gridcolor\": \"white\", \"linecolor\": \"white\", \"ticks\": \"\", \"title\": {\"standoff\": 15}, \"zerolinecolor\": \"white\", \"zerolinewidth\": 2}, \"yaxis\": {\"automargin\": true, \"gridcolor\": \"white\", \"linecolor\": \"white\", \"ticks\": \"\", \"title\": {\"standoff\": 15}, \"zerolinecolor\": \"white\", \"zerolinewidth\": 2}}}, \"title\": {\"text\": \"\"}, \"xaxis\": {\"title\": {\"text\": \"Week\"}}, \"yaxis\": {\"title\": {\"text\": \"# HHs\"}}},\n",
       "                        {\"responsive\": true}\n",
       "                    ).then(function(){\n",
       "                            \n",
       "var gd = document.getElementById('163799cf-efaa-49fc-a969-f47785fe44e9');\n",
       "var x = new MutationObserver(function (mutations, observer) {{\n",
       "        var display = window.getComputedStyle(gd).display;\n",
       "        if (!display || display === 'none') {{\n",
       "            console.log([gd, 'removed!']);\n",
       "            Plotly.purge(gd);\n",
       "            observer.disconnect();\n",
       "        }}\n",
       "}});\n",
       "\n",
       "// Listen for the removal of the full notebook cells\n",
       "var notebookContainer = gd.closest('#notebook-container');\n",
       "if (notebookContainer) {{\n",
       "    x.observe(notebookContainer, {childList: true});\n",
       "}}\n",
       "\n",
       "// Listen for the clearing of the current output cell\n",
       "var outputEl = gd.closest('.output');\n",
       "if (outputEl) {{\n",
       "    x.observe(outputEl, {childList: true});\n",
       "}}\n",
       "\n",
       "                        })\n",
       "                };\n",
       "                });\n",
       "            </script>\n",
       "        </div>"
      ]
     },
     "metadata": {},
     "output_type": "display_data"
    }
   ],
   "source": [
    "fig = go.Figure()\n",
    "\n",
    "# Pareto II\n",
    "fig.add_trace(\n",
    "    go.Scatter(\n",
    "        x=data.Week.to_list(),\n",
    "        y=eg,\n",
    "        mode='lines',\n",
    "        name='EG',\n",
    "    )\n",
    ")\n",
    "\n",
    "# Weibull\n",
    "fig.add_trace(\n",
    "    go.Scatter(\n",
    "        x=data.Week.to_list(),\n",
    "        y=wg,\n",
    "        mode='lines',\n",
    "        name='WG')\n",
    ")\n",
    "\n",
    "# Pareto II\n",
    "fig.add_trace(\n",
    "    go.Scatter(\n",
    "        x=data.Week.to_list(),\n",
    "        y=eg_cov,\n",
    "        mode='lines',\n",
    "        name='EG Covariates',\n",
    "    )\n",
    ")\n",
    "\n",
    "# Weibull\n",
    "fig.add_trace(\n",
    "    go.Scatter(\n",
    "        x=data.Week.to_list(),\n",
    "        y=wg_cov,\n",
    "        mode='lines',\n",
    "        name='WG covariates')\n",
    ")\n",
    "\n",
    "# Observed\n",
    "fig.add_trace(\n",
    "    go.Scatter(\n",
    "        x=data.Week.to_list(),\n",
    "        y=data.Cum_HH,\n",
    "        mode='lines',\n",
    "        name='Actual')\n",
    ")\n",
    "\n",
    "# Plot labels\n",
    "fig.update_layout(title='',\n",
    "                  xaxis_title='Week',\n",
    "                  yaxis_title='# HHs',\n",
    "                  annotations=[      \n",
    "                  ],\n",
    "                )\n",
    "\n",
    "fig.show()"
   ]
  },
  {
   "cell_type": "code",
   "execution_count": null,
   "metadata": {},
   "outputs": [],
   "source": []
  }
 ],
 "metadata": {
  "kernelspec": {
   "display_name": "Python 3",
   "language": "python",
   "name": "python3"
  },
  "language_info": {
   "codemirror_mode": {
    "name": "ipython",
    "version": 3
   },
   "file_extension": ".py",
   "mimetype": "text/x-python",
   "name": "python",
   "nbconvert_exporter": "python",
   "pygments_lexer": "ipython3",
   "version": "3.7.3"
  }
 },
 "nbformat": 4,
 "nbformat_minor": 2
}
