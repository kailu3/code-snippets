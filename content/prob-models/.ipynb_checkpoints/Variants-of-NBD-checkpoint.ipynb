{
 "cells": [
  {
   "cell_type": "markdown",
   "metadata": {},
   "source": [
    "> NBD models with spikes"
   ]
  },
  {
   "cell_type": "code",
   "execution_count": 1,
   "metadata": {},
   "outputs": [],
   "source": [
    "import numpy as np\n",
    "import pandas as pd\n",
    "from scipy.optimize import minimize\n",
    "import os\n",
    "from IPython.display import display, Image\n",
    "import plotly.graph_objs as go"
   ]
  },
  {
   "cell_type": "markdown",
   "metadata": {},
   "source": [
    "# Function"
   ]
  },
  {
   "cell_type": "code",
   "execution_count": 239,
   "metadata": {},
   "outputs": [],
   "source": [
    "def compute_probabilities(alpha, r, t, num_bins, spike = None, val = 0, truncated = 0):\n",
    "    '''Compute the probability of a person landing in one of the discrete buckets'''\n",
    "    if spike is None:\n",
    "        p = [(alpha / (alpha + t))**r]\n",
    "        for x in range(1, num_bins-1):\n",
    "            p.append(t * (r + x - 1) / x / (alpha + t) * p[x-1])\n",
    "\n",
    "        # add remaining probability to right censored cell\n",
    "        p.append(1 - np.sum(p))\n",
    "\n",
    "        return p[truncated:]\n",
    "    else:\n",
    "        p = [(alpha / (alpha + t))**r]\n",
    "        for x in range(1, num_bins-1):\n",
    "            p.append(t * (r + x - 1) / x / (alpha + t) * p[x-1])\n",
    "\n",
    "        # add remaining probability to right censored cell\n",
    "        p.append(1 - np.sum(p))\n",
    "        supp = [1-val] * len(p)\n",
    "        rp = np.array(supp)*p\n",
    "        rp[spike] = rp[spike] + val\n",
    "        \n",
    "        return(list(rp))\n",
    "\n",
    "def log_likelihood(alpha, r, t, values, counts, spike = None, val = 0, truncated = 0):\n",
    "    '''Objective function that we need to maximize to get best alpha and r params'''\n",
    "    if spike is None:\n",
    "        if alpha <= 0 or r <= 0:\n",
    "            return -99999\n",
    "        probabilities = np.array(compute_probabilities(alpha, r, t, len(values), truncated = truncated))\n",
    "        probabilities = probabilities/np.sum(probabilities)\n",
    "        \n",
    "        return np.sum(np.log(probabilities) * np.array(counts)[truncated:])\n",
    "    else:\n",
    "        if alpha <= 0 or r <= 0:\n",
    "            return -99999\n",
    "        probabilities = np.array(compute_probabilities(alpha, r, t, len(values),spike,val))\n",
    "\n",
    "        return np.sum(np.log(probabilities) * np.array(counts))\n",
    "        \n",
    "def maximize(values, counts, spike = None, truncated = 0):\n",
    "    '''Maximize log-likelihood by searching for best (alpha, r) combination'''\n",
    "    if spike is None:\n",
    "        func = lambda x: -log_likelihood(x[0], x[1], 1, values, counts, truncated = truncated)\n",
    "        x0 = np.array([100., 100.])\n",
    "        res = minimize(func, x0, method='Nelder-Mead', options={'xtol': 1e-8, 'disp': False})\n",
    "\n",
    "        return res.x\n",
    "    else:\n",
    "        func = lambda x: -log_likelihood(x[0], x[1], 1, values, counts, spike = spike, val = x[2])\n",
    "        x0 = np.array([1., 1., 0.2])\n",
    "        bnds = ((0.00001, None), (0.00001, None), (0.00001,0.99999))\n",
    "        res = minimize(func, x0, bounds=bnds)\n",
    "\n",
    "        return res.x\n",
    "\n",
    "def forecast(values, counts, t, spike = None, truncated = 0):\n",
    "    '''Fits the nBD model to the data'''\n",
    "    if spike is None:\n",
    "        # Generate best alpha, r\n",
    "        alpha, r = maximize(values, counts, truncated = truncated)\n",
    "\n",
    "        # Calculate probabilities\n",
    "        probabilities = compute_probabilities(alpha, r, t, len(values))\n",
    "\n",
    "        # Scale expectations to population\n",
    "        if truncated == 0:\n",
    "            return probabilities * np.array([np.sum(counts)] * len(probabilities))\n",
    "        else:\n",
    "            p1 = list(probabilities[1:]/np.sum(probabilities[1:]))\n",
    "            c1 = np.array([np.sum(counts[1:])] * len(probabilities[1:]))\n",
    "            observed = p1 * c1\n",
    "            unobserved = [np.sum(counts[1:])]/np.sum(probabilities[1:]) - [np.sum(counts[1:])]\n",
    "            return list(unobserved) + list(observed)\n",
    "    else:\n",
    "        # Generate best alpha, r\n",
    "        alpha, r, pi = maximize(values, counts, spike)\n",
    "\n",
    "        # Calculate probabilities\n",
    "        probabilities = compute_probabilities(alpha, r, t, len(values), spike,pi)\n",
    "\n",
    "        # Scale expectations to population\n",
    "        return probabilities * np.array([np.sum(counts)] * len(probabilities))\n",
    "\n",
    "\n",
    "def fixed_forecast(values, counts, alpha, r, t):\n",
    "    '''Forecasts with fixed alpha and r obtained from initial fit'''\n",
    "    # Calculate probabilities\n",
    "    probabilities = compute_probabilities(alpha, r, t, len(values))\n",
    "    \n",
    "    # Scale expectations to population\n",
    "    return probabilities * np.array([np.sum(counts)] * len(probabilities))"
   ]
  },
  {
   "cell_type": "markdown",
   "metadata": {},
   "source": [
    "# Example"
   ]
  },
  {
   "cell_type": "code",
   "execution_count": 240,
   "metadata": {},
   "outputs": [],
   "source": [
    "df = pd.read_csv(\"data/Coffee creamer NBD.csv\")"
   ]
  },
  {
   "cell_type": "code",
   "execution_count": 241,
   "metadata": {
    "scrolled": true
   },
   "outputs": [
    {
     "data": {
      "text/plain": [
       "array([0.05907792, 0.18095184])"
      ]
     },
     "execution_count": 241,
     "metadata": {},
     "output_type": "execute_result"
    }
   ],
   "source": [
    "maximize(df.X,df.N_x)"
   ]
  },
  {
   "cell_type": "code",
   "execution_count": 242,
   "metadata": {},
   "outputs": [
    {
     "data": {
      "text/plain": [
       "array([0.21515571, 1.22648101])"
      ]
     },
     "execution_count": 242,
     "metadata": {},
     "output_type": "execute_result"
    }
   ],
   "source": [
    "maximize(df.X,df.N_x,truncated=1)"
   ]
  },
  {
   "cell_type": "code",
   "execution_count": 243,
   "metadata": {},
   "outputs": [
    {
     "data": {
      "text/plain": [
       "array([0.21515463, 1.22647475, 0.55064383])"
      ]
     },
     "execution_count": 243,
     "metadata": {},
     "output_type": "execute_result"
    }
   ],
   "source": [
    "maximize(df.X,df.N_x, 0)"
   ]
  },
  {
   "cell_type": "code",
   "execution_count": 244,
   "metadata": {},
   "outputs": [
    {
     "data": {
      "text/plain": [
       "array([5.90760943e-02, 1.80948296e-01, 1.00000000e-05])"
      ]
     },
     "execution_count": 244,
     "metadata": {},
     "output_type": "execute_result"
    }
   ],
   "source": [
    "#Rejecting Spike\n",
    "maximize(df.X,df.N_x, 1)"
   ]
  },
  {
   "cell_type": "code",
   "execution_count": 1,
   "metadata": {},
   "outputs": [],
   "source": [
    "# fig = go.Figure(data=[\n",
    "#     go.Bar(name='Actual', x=df.X, y=df.N_x),\n",
    "#     go.Bar(name='Expected', x=df.X, y=forecast(df.X,df.N_x,1))\n",
    "# ])\n",
    "\n",
    "# fig.update_layout(title='Regular NBD',\n",
    "#                   xaxis_title='x',\n",
    "#                   yaxis_title='count',\n",
    "#                  annotations=[\n",
    "                    \n",
    "#                       ],\n",
    "#                   xaxis = dict(\n",
    "#                         tickmode = 'linear',\n",
    "#                         tick0 = 0,\n",
    "#                         dtick = 1\n",
    "#                         )\n",
    "#                  )\n",
    "\n",
    "# # Change the bar mode\n",
    "# fig.update_layout(barmode='group')\n",
    "\n",
    "# fig.show()"
   ]
  },
  {
   "cell_type": "code",
   "execution_count": 2,
   "metadata": {},
   "outputs": [],
   "source": [
    "# fig = go.Figure(data=[\n",
    "#     go.Bar(name='Actual', x=df.X, y=df.N_x),\n",
    "#     go.Bar(name='Expected', x=df.X, y=forecast(df.X,df.N_x,1, 0))\n",
    "# ])\n",
    "\n",
    "# fig.update_layout(title='Spike@0',\n",
    "#                   xaxis_title='x',\n",
    "#                   yaxis_title='count',\n",
    "#                  annotations=[\n",
    "                    \n",
    "#                       ],\n",
    "#                   xaxis = dict(\n",
    "#                         tickmode = 'linear',\n",
    "#                         tick0 = 0,\n",
    "#                         dtick = 1\n",
    "#                         )\n",
    "#                  )\n",
    "\n",
    "# # Change the bar mode\n",
    "# fig.update_layout(barmode='group')\n",
    "\n",
    "# fig.show()"
   ]
  },
  {
   "cell_type": "code",
   "execution_count": 3,
   "metadata": {},
   "outputs": [],
   "source": [
    "# fig = go.Figure(data=[\n",
    "#     go.Bar(name='Actual', x=df.X, y=df.N_x),\n",
    "#     go.Bar(name='Expected', x=df.X, y=forecast(df.X,df.N_x,1,truncated=1))\n",
    "# ])\n",
    "\n",
    "# fig.update_layout(title='Truncated',\n",
    "#                   xaxis_title='x',\n",
    "#                   yaxis_title='count',\n",
    "#                  annotations=[\n",
    "                    \n",
    "#                       ],\n",
    "#                   xaxis = dict(\n",
    "#                         tickmode = 'linear',\n",
    "#                         tick0 = 0,\n",
    "#                         dtick = 1\n",
    "#                         )\n",
    "#                  )\n",
    "\n",
    "# # Change the bar mode\n",
    "# fig.update_layout(barmode='group')\n",
    "\n",
    "# fig.show()"
   ]
  },
  {
   "cell_type": "code",
   "execution_count": null,
   "metadata": {},
   "outputs": [],
   "source": []
  }
 ],
 "metadata": {
  "kernelspec": {
   "display_name": "Python 3",
   "language": "python",
   "name": "python3"
  },
  "language_info": {
   "codemirror_mode": {
    "name": "ipython",
    "version": 3
   },
   "file_extension": ".py",
   "mimetype": "text/x-python",
   "name": "python",
   "nbconvert_exporter": "python",
   "pygments_lexer": "ipython3",
   "version": "3.6.5"
  }
 },
 "nbformat": 4,
 "nbformat_minor": 4
}
