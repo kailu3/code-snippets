{
 "cells": [
  {
   "cell_type": "markdown",
   "metadata": {},
   "source": [
    "> Bring in the covariates and all kinds of cool stuff for the counting process"
   ]
  },
  {
   "cell_type": "code",
   "execution_count": 60,
   "metadata": {},
   "outputs": [],
   "source": [
    "#!pip install numdifftools"
   ]
  },
  {
   "cell_type": "code",
   "execution_count": 546,
   "metadata": {},
   "outputs": [],
   "source": [
    "import numpy as np\n",
    "import pandas as pd\n",
    "from scipy.optimize import minimize\n",
    "import scipy.special as sc\n",
    "import os\n",
    "from IPython.display import display, Image\n",
    "import plotly.graph_objs as go\n",
    "import pprint\n",
    "import math\n",
    "import statsmodels.discrete.count_model as reg_models\n",
    "\n",
    "from patsy import dmatrices\n",
    "import statsmodels.api as sm\n",
    "import matplotlib.pyplot as plt"
   ]
  },
  {
   "cell_type": "markdown",
   "metadata": {},
   "source": [
    "# Functions"
   ]
  },
  {
   "cell_type": "code",
   "execution_count": 625,
   "metadata": {},
   "outputs": [],
   "source": [
    "def compute_probabilities(a, r, t, values, pi = 0):\n",
    "    '''Compute the probability of a person landing in their bucket'''\n",
    "    if pi == 0:\n",
    "        return math.log(math.gamma(r+ values)/(math.gamma(r) *math.factorial(values)) * (a/(a+t))**(r)*(t/(a+t))**(values))\n",
    "    else:\n",
    "        if values == 0:\n",
    "            prob1 = pi\n",
    "            prob2 = (math.gamma(r+ values)/(math.gamma(r) *math.factorial(values)) * (a/(a+t))**(r)*(t/(a+t))**(values)) * (1-pi)\n",
    "            return math.log(prob1 + prob2)\n",
    "        else:\n",
    "            prob2 = (math.gamma(r+ values)/(math.gamma(r) *math.factorial(values)) * (a/(a+t))**(r)*(t/(a+t))**(values)) * (1-pi)\n",
    "            return math.log(prob2)\n",
    "\n",
    "def compute_all_probabilities(param,values,t):\n",
    "    '''compute the probabilities of each person conditioned on how long we have observed them'''\n",
    "    a,r = param\n",
    "    x = values\n",
    "    probs = []\n",
    "    for i in range(len(values)):\n",
    "        probs.append(compute_probabilities(a,r,t[i],x[i]))\n",
    "    return np.sum(probs) * -1\n",
    "\n",
    "def maximize(values, t):\n",
    "    func = lambda x: compute_all_probabilities(x, values, t)\n",
    "    bnds = ((0.00001, None), (0.00001, None))\n",
    "    x0 = [1., 1.]\n",
    "    res = minimize(func, x0, bounds=bnds)\n",
    "\n",
    "    return res.x, res.fun"
   ]
  },
  {
   "cell_type": "code",
   "execution_count": 626,
   "metadata": {},
   "outputs": [],
   "source": [
    "def log_likelihood_extraction(alpha, expr, data):\n",
    "    Y,X = dmatrices(expr, data, return_type='dataframe')\n",
    "    model = sm.GLM(Y, X, family=sm.families.NegativeBinomial(alpha = alpha)).fit()\n",
    "    return(-1*model.llf)\n",
    "\n",
    "def reg_maximize(expr, data):\n",
    "    func = lambda x: log_likelihood_extraction(x, expr, data)\n",
    "    Y,X = dmatrices(expr, data, return_type='dataframe')\n",
    "    bnds = ((0, None),)  \n",
    "    x0 = [0.1]\n",
    "    res = minimize(func, x0, bounds=bnds)\n",
    "    model = sm.GLM(Y, X, family=sm.families.NegativeBinomial(alpha = res.x)).fit()\n",
    "    r = 1/res.x\n",
    "    a = r/math.exp(model.params[0])\n",
    "    \n",
    "    return (['a','r'] + list(model.params.index[0:]),\n",
    "            [a[0],r[0]] + [math.exp(model.params[0])] + list(model.params[1:]),\n",
    "            res.fun)"
   ]
  },
  {
   "cell_type": "code",
   "execution_count": 876,
   "metadata": {},
   "outputs": [],
   "source": [
    "def zip_maximize(expr, data):\n",
    "    Y,X = dmatrices(expr, data, return_type='dataframe')\n",
    "    out = reg_models.ZeroInflatedNegativeBinomialP(Y,X,inflation='logit')\n",
    "    out_res = out.fit(maxiter = 1000)\n",
    "    r = 1/out_res.params[-1]\n",
    "    pi = math.exp(out_res.params[0])/(1+math.exp(out_res.params[0]))\n",
    "    a = r/math.exp(out_res.params[1])\n",
    "    \n",
    "    return (['a','r','pi'] + list(out_res.params.index[1:-1]),\n",
    "        [a,r,pi] + [math.exp(out_res.params[1])] + list(out_res.params[2:-1]),\n",
    "        -1*out_res.llf)"
   ]
  },
  {
   "cell_type": "code",
   "execution_count": 877,
   "metadata": {},
   "outputs": [],
   "source": [
    "def forecast_histogram(expr, data, right_censor, zip_ = False):\n",
    "    if zip_ == False:\n",
    "        Y,X = dmatrices(expr, data, return_type='dataframe')\n",
    "        maxed = reg_maximize(expr,data)[1]\n",
    "        alpha = maxed[0]\n",
    "        r = maxed[1]\n",
    "        coef = maxed[3:]\n",
    "        over_all = []\n",
    "        coef_exp = np.exp(np.sum(X.iloc[:,1:]* np.array(coef).T,axis = 1))\n",
    "        for i in coef_exp:\n",
    "            person = []\n",
    "            if len(coef) == 0: \n",
    "                func = lambda x:math.exp(compute_probabilities(alpha,r, 1,x))\n",
    "            else:\n",
    "                func = lambda x:math.exp(compute_probabilities(alpha,r, i,x))\n",
    "            person = list(map(func,range(right_censor)))\n",
    "            person.append(1-np.sum(person))\n",
    "            over_all.append(person)\n",
    "        return(over_all)\n",
    "    else:\n",
    "        Y,X = dmatrices(expr, data, return_type='dataframe')\n",
    "        maxed = zip_maximize(expr,data)[1]\n",
    "        alpha = maxed[0]\n",
    "        r = maxed[1]\n",
    "        pi = maxed[2]\n",
    "        coef = maxed[4:]\n",
    "        over_all = []\n",
    "        coef_exp = np.exp(np.sum(X.iloc[:,1:]* np.array(coef).T,axis = 1))\n",
    "        for i in coef_exp:\n",
    "            person = []\n",
    "            if len(coef) == 0: \n",
    "                func = lambda x:math.exp(compute_probabilities(alpha,r, 1,x, pi = pi))\n",
    "            else:\n",
    "                func = lambda x:math.exp(compute_probabilities(alpha,r, i,x, pi = pi))\n",
    "            person = list(map(func,range(right_censor)))\n",
    "            person.append(1-np.sum(person))\n",
    "            over_all.append(person)\n",
    "        return(over_all)"
   ]
  },
  {
   "cell_type": "code",
   "execution_count": 880,
   "metadata": {},
   "outputs": [],
   "source": [
    "def conditional_expectation(expr,data, num_of_periods, zip_ = False):\n",
    "    if zip_ == False:\n",
    "        Y,X = dmatrices(expr, data, return_type='dataframe')\n",
    "        maxed = reg_maximize(expr,data)[1]\n",
    "        alpha = maxed[0]\n",
    "        r = maxed[1]\n",
    "        coef = maxed[3:]\n",
    "        coef_exp = np.exp(np.sum(X.iloc[:,1:]* np.array(coef).T,axis = 1))\n",
    "        if len(coef) == 0: \n",
    "            return((r + Y.iloc[:,0].to_list())/(alpha+1)) * num_of_periods\n",
    "        else:\n",
    "            return(((r + Y.iloc[:,0].to_list())/(alpha + coef_exp))*coef_exp) * num_of_periods\n",
    "    else:\n",
    "        Y,X = dmatrices(expr, data, return_type='dataframe')\n",
    "        maxed = zip_maximize(expr,data)[1]\n",
    "        alpha = maxed[0]\n",
    "        r = maxed[1]\n",
    "        pi = maxed[2]\n",
    "        coef = maxed[4:]\n",
    "        coef_exp = np.exp(np.sum(X.iloc[:,1:]* np.array(coef).T,axis = 1))\n",
    "        pi_series = abs((np.array(Y.iloc[:,0].to_list()) == 0).astype(int) * (pi) - 1)\n",
    "        if len(coef) == 0: \n",
    "            return ((r + Y.iloc[:,0].to_list())/(alpha+1)) * num_of_periods * pi_series\n",
    "        else:\n",
    "            return ((r + Y.iloc[:,0].to_list())/(alpha + coef_exp))*coef_exp * num_of_periods * pi_series"
   ]
  },
  {
   "cell_type": "markdown",
   "metadata": {},
   "source": [
    "# Example"
   ]
  },
  {
   "cell_type": "code",
   "execution_count": 646,
   "metadata": {},
   "outputs": [
    {
     "data": {
      "text/html": [
       "<div>\n",
       "<style scoped>\n",
       "    .dataframe tbody tr th:only-of-type {\n",
       "        vertical-align: middle;\n",
       "    }\n",
       "\n",
       "    .dataframe tbody tr th {\n",
       "        vertical-align: top;\n",
       "    }\n",
       "\n",
       "    .dataframe thead th {\n",
       "        text-align: right;\n",
       "    }\n",
       "</style>\n",
       "<table border=\"1\" class=\"dataframe\">\n",
       "  <thead>\n",
       "    <tr style=\"text-align: right;\">\n",
       "      <th></th>\n",
       "      <th>Unnamed: 0</th>\n",
       "      <th>ID</th>\n",
       "      <th>Visits</th>\n",
       "      <th>Income</th>\n",
       "      <th>Sex</th>\n",
       "      <th>Age</th>\n",
       "      <th>Size</th>\n",
       "    </tr>\n",
       "  </thead>\n",
       "  <tbody>\n",
       "    <tr>\n",
       "      <th>0</th>\n",
       "      <td>1</td>\n",
       "      <td>1</td>\n",
       "      <td>0</td>\n",
       "      <td>11.38</td>\n",
       "      <td>1</td>\n",
       "      <td>3.87</td>\n",
       "      <td>2</td>\n",
       "    </tr>\n",
       "    <tr>\n",
       "      <th>1</th>\n",
       "      <td>2</td>\n",
       "      <td>2</td>\n",
       "      <td>5</td>\n",
       "      <td>9.77</td>\n",
       "      <td>1</td>\n",
       "      <td>4.04</td>\n",
       "      <td>1</td>\n",
       "    </tr>\n",
       "    <tr>\n",
       "      <th>2</th>\n",
       "      <td>3</td>\n",
       "      <td>3</td>\n",
       "      <td>0</td>\n",
       "      <td>11.08</td>\n",
       "      <td>0</td>\n",
       "      <td>3.33</td>\n",
       "      <td>2</td>\n",
       "    </tr>\n",
       "    <tr>\n",
       "      <th>3</th>\n",
       "      <td>4</td>\n",
       "      <td>4</td>\n",
       "      <td>0</td>\n",
       "      <td>10.92</td>\n",
       "      <td>1</td>\n",
       "      <td>3.95</td>\n",
       "      <td>3</td>\n",
       "    </tr>\n",
       "    <tr>\n",
       "      <th>4</th>\n",
       "      <td>5</td>\n",
       "      <td>5</td>\n",
       "      <td>0</td>\n",
       "      <td>10.92</td>\n",
       "      <td>1</td>\n",
       "      <td>2.83</td>\n",
       "      <td>3</td>\n",
       "    </tr>\n",
       "  </tbody>\n",
       "</table>\n",
       "</div>"
      ],
      "text/plain": [
       "   Unnamed: 0  ID  Visits  Income  Sex   Age  Size\n",
       "0           1   1       0   11.38    1  3.87     2\n",
       "1           2   2       5    9.77    1  4.04     1\n",
       "2           3   3       0   11.08    0  3.33     2\n",
       "3           4   4       0   10.92    1  3.95     3\n",
       "4           5   5       0   10.92    1  2.83     3"
      ]
     },
     "execution_count": 646,
     "metadata": {},
     "output_type": "execute_result"
    }
   ],
   "source": [
    "data = pd.read_csv(\"data/khakichinos models.csv\")\n",
    "data.head()"
   ]
  },
  {
   "cell_type": "code",
   "execution_count": 647,
   "metadata": {},
   "outputs": [
    {
     "data": {
      "text/plain": [
       "(array([0.14099695, 0.1338644 ]), 2905.624496045505)"
      ]
     },
     "execution_count": 647,
     "metadata": {},
     "output_type": "execute_result"
    }
   ],
   "source": [
    "maximize(data.Visits,[1]*len(data.Visits))"
   ]
  },
  {
   "cell_type": "code",
   "execution_count": 691,
   "metadata": {},
   "outputs": [
    {
     "name": "stdout",
     "output_type": "stream",
     "text": [
      "(['a', 'r', 'Intercept'], [0.14099708372164194, 0.1338645332987729, 0.9494134897360701], 2905.624496045661)\n"
     ]
    }
   ],
   "source": [
    "expr = 'Visits ~ 1'\n",
    "print(reg_maximize(expr,data))\n",
    "matrix = np.array(forecast_histogram(expr,data,9))\n",
    "pred = matrix.mean(axis = 0) * X.shape[0]\n",
    "cond = conditional_expectation(expr,data,1)"
   ]
  },
  {
   "cell_type": "code",
   "execution_count": 692,
   "metadata": {},
   "outputs": [
    {
     "name": "stdout",
     "output_type": "stream",
     "text": [
      "(['a', 'r', 'Intercept', 'Income', 'Sex', 'Age', 'Size'], [8.184476204628131, 0.13875960972050463, 0.016954000017990068, 0.07237626990085358, -0.009011068141378614, 0.9045160743786176, -0.024064955714689706], 2888.9316261744984)\n"
     ]
    }
   ],
   "source": [
    "expr = 'Visits ~ Income + Sex + Age + Size'\n",
    "print(reg_maximize(expr,data))\n",
    "matrix2 = np.array(forecast_histogram(expr,data,9))\n",
    "pred2 = matrix2.mean(axis = 0) * X.shape[0]\n",
    "cond2 = conditional_expectation(expr,data,1)"
   ]
  },
  {
   "cell_type": "code",
   "execution_count": 883,
   "metadata": {},
   "outputs": [
    {
     "name": "stdout",
     "output_type": "stream",
     "text": [
      "Optimization terminated successfully.\n",
      "         Current function value: 1.058993\n",
      "         Iterations: 50\n",
      "         Function evaluations: 52\n",
      "         Gradient evaluations: 52\n",
      "(['a', 'r', 'pi', 'Intercept', 'Income', 'Sex', 'Age', 'Size'], [8.187503876512592, 0.13875936416550555, 5.073509689735195e-07, 0.016947700576186976, 0.07240476538207094, -0.00899385182315592, 0.9045305427085455, -0.02406652145067227], 2888.931639160427)\n",
      "Optimization terminated successfully.\n",
      "         Current function value: 1.058993\n",
      "         Iterations: 50\n",
      "         Function evaluations: 52\n",
      "         Gradient evaluations: 52\n",
      "Optimization terminated successfully.\n",
      "         Current function value: 1.058993\n",
      "         Iterations: 50\n",
      "         Function evaluations: 52\n",
      "         Gradient evaluations: 52\n"
     ]
    }
   ],
   "source": [
    "expr = 'Visits ~ Income + Sex + Age + Size'\n",
    "print(zip_maximize(expr,data))\n",
    "matrix3 = np.array(forecast_histogram(expr,data,9,True))\n",
    "pred3 = matrix3.mean(axis = 0) * X.shape[0]\n",
    "cond3 = conditional_expectation(expr,data,1, True)"
   ]
  },
  {
   "cell_type": "code",
   "execution_count": 1,
   "metadata": {},
   "outputs": [],
   "source": [
    "# fig = go.Figure(data=[\n",
    "#     go.Bar(name='Actual', x=np.arange(10), y=np.unique(data.Visits,return_counts=True)[1][0:9]),\n",
    "#     go.Bar(name='Expected', x=np.arange(10), y=pred)\n",
    "# ])\n",
    "\n",
    "# fig.update_layout(title='Raw NBD',\n",
    "#                   xaxis_title='x',\n",
    "#                   yaxis_title='count',\n",
    "#                  annotations=[\n",
    "                    \n",
    "#                       ],\n",
    "#                   xaxis = dict(\n",
    "#                         tickmode = 'linear',\n",
    "#                         tick0 = 0,\n",
    "#                         dtick = 1\n",
    "#                         )\n",
    "#                  )\n",
    "\n",
    "# # Change the bar mode\n",
    "# fig.update_layout(barmode='group')\n",
    "\n",
    "# fig.show()"
   ]
  },
  {
   "cell_type": "code",
   "execution_count": 2,
   "metadata": {},
   "outputs": [],
   "source": [
    "# fig = go.Figure(data=[\n",
    "#     go.Bar(name='Actual', x=np.arange(10), y=np.unique(data.Visits,return_counts=True)[1][0:9]),\n",
    "#     go.Bar(name='Expected', x=np.arange(10), y=pred2)\n",
    "# ])\n",
    "\n",
    "# fig.update_layout(title='NBD Regression',\n",
    "#                   xaxis_title='x',\n",
    "#                   yaxis_title='count',\n",
    "#                  annotations=[\n",
    "                    \n",
    "#                       ],\n",
    "#                   xaxis = dict(\n",
    "#                         tickmode = 'linear',\n",
    "#                         tick0 = 0,\n",
    "#                         dtick = 1\n",
    "#                         )\n",
    "#                  )\n",
    "\n",
    "# # Change the bar mode\n",
    "# fig.update_layout(barmode='group')\n",
    "\n",
    "# fig.show()"
   ]
  },
  {
   "cell_type": "code",
   "execution_count": 3,
   "metadata": {},
   "outputs": [],
   "source": [
    "# fig = go.Figure(data=[\n",
    "#     go.Bar(name='Actual', x=np.arange(10), y=np.unique(data.Visits,return_counts=True)[1][0:9]),\n",
    "#     go.Bar(name='Expected', x=np.arange(10), y=pred3)\n",
    "# ])\n",
    "\n",
    "# fig.update_layout(title='ZIP NBD Regression',\n",
    "#                   xaxis_title='x',\n",
    "#                   yaxis_title='count',\n",
    "#                  annotations=[\n",
    "                    \n",
    "#                       ],\n",
    "#                   xaxis = dict(\n",
    "#                         tickmode = 'linear',\n",
    "#                         tick0 = 0,\n",
    "#                         dtick = 1\n",
    "#                         )\n",
    "#                  )\n",
    "\n",
    "# # Change the bar mode\n",
    "# fig.update_layout(barmode='group')\n",
    "\n",
    "# fig.show()"
   ]
  },
  {
   "cell_type": "markdown",
   "metadata": {},
   "source": [
    "# ML Integration with NBD for variable selection"
   ]
  },
  {
   "cell_type": "markdown",
   "metadata": {},
   "source": [
    "> Work In Progress"
   ]
  },
  {
   "cell_type": "code",
   "execution_count": 838,
   "metadata": {},
   "outputs": [],
   "source": [
    "expr = 'Visits ~ Income + Sex + Age + Size'\n",
    "Y,X = dmatrices(expr, data, return_type='dataframe')\n",
    "X = X.iloc[:,1:]\n",
    "residual = Y.iloc[:,0].to_list() - cond\n",
    "Y = residual.reshape(-1, 1)"
   ]
  },
  {
   "cell_type": "code",
   "execution_count": 866,
   "metadata": {},
   "outputs": [],
   "source": [
    "from sklearn.linear_model import Lasso\n",
    "from sklearn.ensemble import RandomForestRegressor\n",
    "from sklearn.inspection import plot_partial_dependence\n",
    "from sklearn.inspection import partial_dependence"
   ]
  },
  {
   "cell_type": "code",
   "execution_count": 840,
   "metadata": {},
   "outputs": [
    {
     "data": {
      "text/plain": [
       "Lasso(alpha=0.012, copy_X=True, fit_intercept=True, max_iter=1000000,\n",
       "      normalize=False, positive=False, precompute=False, random_state=None,\n",
       "      selection='cyclic', tol=0.0001, warm_start=False)"
      ]
     },
     "execution_count": 840,
     "metadata": {},
     "output_type": "execute_result"
    }
   ],
   "source": [
    "Lasso_mod = Lasso(alpha = 0.012,tol=0.0001,max_iter=1000000)\n",
    "Lasso_mod.fit(X,Y)"
   ]
  },
  {
   "cell_type": "code",
   "execution_count": 841,
   "metadata": {
    "scrolled": true
   },
   "outputs": [
    {
     "name": "stdout",
     "output_type": "stream",
     "text": [
      "Index(['Income', 'Sex', 'Age', 'Size'], dtype='object')\n",
      "[ 0.        -0.         0.        -0.0024961]\n"
     ]
    }
   ],
   "source": [
    "print(X.columns)\n",
    "print(Lasso_mod.coef_)"
   ]
  },
  {
   "cell_type": "code",
   "execution_count": 842,
   "metadata": {},
   "outputs": [
    {
     "data": {
      "text/plain": [
       "RandomForestRegressor(bootstrap=True, criterion='mse', max_depth=None,\n",
       "                      max_features='auto', max_leaf_nodes=None,\n",
       "                      min_impurity_decrease=0.0, min_impurity_split=None,\n",
       "                      min_samples_leaf=1, min_samples_split=2,\n",
       "                      min_weight_fraction_leaf=0.0, n_estimators=100,\n",
       "                      n_jobs=None, oob_score=False, random_state=None,\n",
       "                      verbose=0, warm_start=False)"
      ]
     },
     "execution_count": 842,
     "metadata": {},
     "output_type": "execute_result"
    }
   ],
   "source": [
    "rf = RandomForestRegressor(n_estimators=100)\n",
    "rf.fit(X, Y.reshape(len(Y), ))"
   ]
  },
  {
   "cell_type": "code",
   "execution_count": 874,
   "metadata": {
    "scrolled": true
   },
   "outputs": [
    {
     "name": "stdout",
     "output_type": "stream",
     "text": [
      "Index(['Income', 'Sex', 'Age', 'Size'], dtype='object')\n",
      "[0.30551008 0.08620703 0.41905876 0.18922412]\n",
      "(array([[ 0.02386598,  0.02124276,  0.0261854 ,  0.29297322,  0.03629806,\n",
      "        -0.00288798, -0.0123767 ,  0.02669248, -0.00572551,  0.04711188,\n",
      "         0.10657544,  0.01180043,  0.01393178, -0.01455978, -0.02604677,\n",
      "         0.05643974,  0.0013408 ,  0.07001138,  0.01015555,  0.08224986,\n",
      "         0.04510924,  0.04250159,  0.02558405]]), [array([ 8.92,  9.08,  9.33,  9.53,  9.77,  9.9 , 10.02, 10.22, 10.31,\n",
      "       10.39, 10.53, 10.66, 10.77, 10.82, 10.92, 11.08, 11.12, 11.19,\n",
      "       11.38, 11.74, 11.92, 12.07, 12.21])])\n"
     ]
    }
   ],
   "source": [
    "print(X.columns)\n",
    "print(rf.feature_importances_)\n",
    "import matplotlib.pyplot as plt\n",
    "print(partial_dependence(estimator = rf,\n",
    "                              X = X,\n",
    "                              features=[0]))"
   ]
  },
  {
   "cell_type": "code",
   "execution_count": null,
   "metadata": {},
   "outputs": [],
   "source": []
  }
 ],
 "metadata": {
  "kernelspec": {
   "display_name": "Python 3",
   "language": "python",
   "name": "python3"
  },
  "language_info": {
   "codemirror_mode": {
    "name": "ipython",
    "version": 3
   },
   "file_extension": ".py",
   "mimetype": "text/x-python",
   "name": "python",
   "nbconvert_exporter": "python",
   "pygments_lexer": "ipython3",
   "version": "3.6.5"
  }
 },
 "nbformat": 4,
 "nbformat_minor": 4
}
