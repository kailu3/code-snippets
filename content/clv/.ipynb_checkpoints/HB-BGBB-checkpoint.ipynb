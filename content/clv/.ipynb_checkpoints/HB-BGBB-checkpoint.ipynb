{
 "cells": [
  {
   "cell_type": "markdown",
   "metadata": {},
   "source": [
    "## Hierarchical Bayes BG-BB"
   ]
  },
  {
   "cell_type": "code",
   "execution_count": 2,
   "metadata": {},
   "outputs": [],
   "source": [
    "# TODO for some time in the future\n",
    "\n"
   ]
  },
  {
   "cell_type": "markdown",
   "metadata": {},
   "source": [
    "Prob read this first (for Pareto/NBD)\n",
    "- https://pdfs.semanticscholar.org/cd1e/e85ee334b74600309f777c10ba894ec6494b.pdf?_ga=2.222730779.1610769542.1584242010-2068282835.1584242010\n",
    "\n",
    "Might be helpful:\n",
    "- https://cran.r-project.org/web/packages/BTYDplus/vignettes/BTYDplus-HowTo.pdf\n",
    "- https://github.com/mplatzer/BTYDplus\n"
   ]
  },
  {
   "cell_type": "code",
   "execution_count": null,
   "metadata": {},
   "outputs": [],
   "source": []
  }
 ],
 "metadata": {
  "kernelspec": {
   "display_name": "Python 3",
   "language": "python",
   "name": "python3"
  },
  "language_info": {
   "codemirror_mode": {
    "name": "ipython",
    "version": 3
   },
   "file_extension": ".py",
   "mimetype": "text/x-python",
   "name": "python",
   "nbconvert_exporter": "python",
   "pygments_lexer": "ipython3",
   "version": "3.6.5"
  }
 },
 "nbformat": 4,
 "nbformat_minor": 4
}
