{
 "cells": [
  {
   "cell_type": "markdown",
   "metadata": {},
   "source": [
    "> For discrete, contractional business settings where it is easiest to calculate CLV."
   ]
  },
  {
   "cell_type": "code",
   "execution_count": 56,
   "metadata": {},
   "outputs": [],
   "source": [
    "import numpy as np\n",
    "import pandas as pd\n",
    "from scipy.optimize import minimize\n",
    "import scipy.special as sc\n",
    "import os\n",
    "from IPython.display import display, Image\n",
    "import plotly.graph_objs as go\n",
    "from sBG import compute_probabilities, log_likelihood, maximize, forecast"
   ]
  },
  {
   "cell_type": "markdown",
   "metadata": {},
   "source": [
    "## Example in Lecture 6 Slide Deck\n",
    "\n",
    "Assumptions\n",
    "- Each contact is annual (starting 1/1 and ending 12/31)\n",
    "- An average net cashflow of 100 dollars a year\n",
    "- 10% annual discount rate"
   ]
  },
  {
   "cell_type": "code",
   "execution_count": 2,
   "metadata": {},
   "outputs": [],
   "source": [
    "df = pd.read_csv('../data/sBG-1.csv')"
   ]
  },
  {
   "cell_type": "code",
   "execution_count": 3,
   "metadata": {},
   "outputs": [
    {
     "data": {
      "text/plain": [
       "[0.631, 0.468, 0.382, 0.326]"
      ]
     },
     "execution_count": 3,
     "metadata": {},
     "output_type": "execute_result"
    }
   ],
   "source": [
    "data = (df.loc[0:3, 'Regular'] / 1000).to_list()\n",
    "data"
   ]
  },
  {
   "cell_type": "code",
   "execution_count": 5,
   "metadata": {},
   "outputs": [
    {
     "data": {
      "text/plain": [
       "(0.7636650665025251, 1.2958302797888772)"
      ]
     },
     "execution_count": 5,
     "metadata": {},
     "output_type": "execute_result"
    }
   ],
   "source": [
    "gamma, delta = maximize(data)\n",
    "gamma, delta"
   ]
  },
  {
   "cell_type": "markdown",
   "metadata": {},
   "source": [
    "> **gamma** and **delta** of $0.76$ and $1.29$"
   ]
  },
  {
   "cell_type": "code",
   "execution_count": 6,
   "metadata": {},
   "outputs": [
    {
     "data": {
      "text/plain": [
       "0.3708020354975216"
      ]
     },
     "execution_count": 6,
     "metadata": {},
     "output_type": "execute_result"
    }
   ],
   "source": [
    "# Expectation\n",
    "gamma / (gamma + delta)"
   ]
  },
  {
   "cell_type": "code",
   "execution_count": 9,
   "metadata": {},
   "outputs": [],
   "source": [
    "predictions = forecast(data, 12)"
   ]
  },
  {
   "cell_type": "code",
   "execution_count": 10,
   "metadata": {},
   "outputs": [
    {
     "data": {
      "text/html": [
       "<div>\n",
       "<style scoped>\n",
       "    .dataframe tbody tr th:only-of-type {\n",
       "        vertical-align: middle;\n",
       "    }\n",
       "\n",
       "    .dataframe tbody tr th {\n",
       "        vertical-align: top;\n",
       "    }\n",
       "\n",
       "    .dataframe thead th {\n",
       "        text-align: right;\n",
       "    }\n",
       "</style>\n",
       "<table border=\"1\" class=\"dataframe\">\n",
       "  <thead>\n",
       "    <tr style=\"text-align: right;\">\n",
       "      <th></th>\n",
       "      <th>Year</th>\n",
       "      <th>Regular</th>\n",
       "      <th>Regular % Alive</th>\n",
       "      <th>Highend</th>\n",
       "      <th>Highend % Alive</th>\n",
       "    </tr>\n",
       "  </thead>\n",
       "  <tbody>\n",
       "    <tr>\n",
       "      <th>0</th>\n",
       "      <td>1</td>\n",
       "      <td>631</td>\n",
       "      <td>0.631</td>\n",
       "      <td>869</td>\n",
       "      <td>0.869</td>\n",
       "    </tr>\n",
       "    <tr>\n",
       "      <th>1</th>\n",
       "      <td>2</td>\n",
       "      <td>468</td>\n",
       "      <td>0.468</td>\n",
       "      <td>743</td>\n",
       "      <td>0.743</td>\n",
       "    </tr>\n",
       "    <tr>\n",
       "      <th>2</th>\n",
       "      <td>3</td>\n",
       "      <td>382</td>\n",
       "      <td>0.382</td>\n",
       "      <td>653</td>\n",
       "      <td>0.653</td>\n",
       "    </tr>\n",
       "    <tr>\n",
       "      <th>3</th>\n",
       "      <td>4</td>\n",
       "      <td>326</td>\n",
       "      <td>0.326</td>\n",
       "      <td>593</td>\n",
       "      <td>0.593</td>\n",
       "    </tr>\n",
       "    <tr>\n",
       "      <th>4</th>\n",
       "      <td>5</td>\n",
       "      <td>289</td>\n",
       "      <td>0.289</td>\n",
       "      <td>551</td>\n",
       "      <td>0.551</td>\n",
       "    </tr>\n",
       "  </tbody>\n",
       "</table>\n",
       "</div>"
      ],
      "text/plain": [
       "   Year  Regular  Regular % Alive  Highend  Highend % Alive\n",
       "0     1      631            0.631      869            0.869\n",
       "1     2      468            0.468      743            0.743\n",
       "2     3      382            0.382      653            0.653\n",
       "3     4      326            0.326      593            0.593\n",
       "4     5      289            0.289      551            0.551"
      ]
     },
     "execution_count": 10,
     "metadata": {},
     "output_type": "execute_result"
    }
   ],
   "source": [
    "df.head()"
   ]
  },
  {
   "cell_type": "markdown",
   "metadata": {},
   "source": [
    "## Model Fit"
   ]
  },
  {
   "cell_type": "code",
   "execution_count": 17,
   "metadata": {},
   "outputs": [
    {
     "data": {
      "image/png": "[encoded data removed]",
      "text/plain": [
       "<IPython.core.display.Image object>"
      ]
     },
     "execution_count": 17,
     "metadata": {},
     "output_type": "execute_result"
    }
   ],
   "source": [
    "Image('../images/discrete-contractional-figure-1.png')"
   ]
  },
  {
   "cell_type": "markdown",
   "metadata": {},
   "source": [
    "> Customers in this cohort are living longer than the model suggests. This seems to imply negative duration dependence in this context as the longer these customers stay, the probability of them dying seems to go down."
   ]
  },
  {
   "cell_type": "markdown",
   "metadata": {},
   "source": [
    "## DEL \n",
    "\n",
    "There are two ways to calculate the DEL (Discounted Expected Lifetime):\n",
    "\n",
    "### Easy Way\n",
    "\n",
    "The equation on slide 64 is $$DEL = \\sum_{t=0}^\\infty \\frac{S(t)}{(1+d)^t}$$\n",
    "\n",
    "where $S(t)$ is the proportion of survival at time $t$ (what \\% of people are alive at time $t$) , and $d$ is the discount rate per year (assume to be constant as well)."
   ]
  },
  {
   "cell_type": "code",
   "execution_count": 62,
   "metadata": {},
   "outputs": [],
   "source": [
    "discount_rate = 0.1\n",
    "cashflow = 100"
   ]
  },
  {
   "cell_type": "code",
   "execution_count": 91,
   "metadata": {},
   "outputs": [],
   "source": [
    "def DEL(data, discount_rate):\n",
    "    '''Function that takes in discrete time survival data, fits\n",
    "    a sBG and calculates the discounted expected lifetime for 1000 periods'''\n",
    "    survival = [1.0] + forecast(data, 999).to_list()\n",
    "    discount = []\n",
    "    for t in range(1000):\n",
    "        discount.append(1 / (1+discount_rate)**t)\n",
    "        \n",
    "    return np.sum(np.array(survival) * np.array(discount))"
   ]
  },
  {
   "cell_type": "code",
   "execution_count": 92,
   "metadata": {},
   "outputs": [
    {
     "data": {
      "text/plain": [
       "3.6211477487193413"
      ]
     },
     "execution_count": 92,
     "metadata": {},
     "output_type": "execute_result"
    }
   ],
   "source": [
    "DEL(data, discount_rate)"
   ]
  },
  {
   "cell_type": "markdown",
   "metadata": {},
   "source": [
    "### Hard Way\n",
    "\n",
    "> See notes.\n",
    "\n",
    "The resulting formula is a Gaussian Hypergeometric function $$_2F_{1}(1, \\delta, \\gamma + \\delta, \\frac{1}{})$$"
   ]
  },
  {
   "cell_type": "code",
   "execution_count": 68,
   "metadata": {},
   "outputs": [
    {
     "data": {
      "text/plain": [
       "3.621147748719336"
      ]
     },
     "execution_count": 68,
     "metadata": {},
     "output_type": "execute_result"
    }
   ],
   "source": [
    "result_del = sc.hyp2f1(1, delta, gamma + delta, 1 / (1+discount_rate))\n",
    "result_del"
   ]
  },
  {
   "cell_type": "markdown",
   "metadata": {},
   "source": [
    "> Probably the more elegant way to code this"
   ]
  },
  {
   "cell_type": "markdown",
   "metadata": {},
   "source": [
    "## CLV\n",
    "\n",
    "$$E[CLV] = \\sum_{t=0}^\\infty \\frac{v_{t} \\cdot S(t)}{(1+d)^t} = v_{t} \\times DEL$$"
   ]
  },
  {
   "cell_type": "code",
   "execution_count": 69,
   "metadata": {},
   "outputs": [
    {
     "data": {
      "text/plain": [
       "362.1147748719336"
      ]
     },
     "execution_count": 69,
     "metadata": {},
     "output_type": "execute_result"
    }
   ],
   "source": [
    "result_del * cashflow"
   ]
  },
  {
   "cell_type": "markdown",
   "metadata": {},
   "source": [
    "## DERL\n",
    "\n",
    "The Discounted Expected Residual Lifetime. For instance, if we are at the end of Year $n$, what is the expected residual lifetime value of an alive customer?\n",
    "\n",
    "For the BG model, $$DERL(\\gamma, \\delta, d, n - 1) = \\sum_{t = n}^{\\infty} \\frac{S(t | \\gamma, \\delta) / S(n-1 | \\gamma, \\delta)}{(1+d)^t}$$"
   ]
  },
  {
   "cell_type": "markdown",
   "metadata": {},
   "source": [
    "### Easy Way"
   ]
  },
  {
   "cell_type": "code",
   "execution_count": 105,
   "metadata": {},
   "outputs": [],
   "source": [
    "def DERL1(data, discount_rate, n):\n",
    "    '''Calculates the discounted expected residual lifetime which is the expected lifetime\n",
    "    given a customer has been alive for n periods or has done n-1 renewals'''\n",
    "    survival = [1.0] + forecast(data, 999).to_list()\n",
    "    sliced_survival = np.array(survival[n:])\n",
    "    \n",
    "    # Compute conditional surival array S(t|t > n-1)\n",
    "    cond_survival = []\n",
    "    for i in range(1000-n):\n",
    "        cond_survival.append(sliced_survival[i]/survival[n-1])\n",
    "        \n",
    "    # Compute discount array\n",
    "    discount = []\n",
    "    for t in range(1000-n):\n",
    "        discount.append(1 / (1+discount_rate)**t)\n",
    "    \n",
    "    return np.sum(np.array(cond_survival) * np.array(discount))"
   ]
  },
  {
   "cell_type": "code",
   "execution_count": 106,
   "metadata": {},
   "outputs": [
    {
     "data": {
      "text/plain": [
       "5.68381020594769"
      ]
     },
     "execution_count": 106,
     "metadata": {},
     "output_type": "execute_result"
    }
   ],
   "source": [
    "# DERL for customer who has survived 5 periods (renewed 4 times) - Slide 71 Lecture 6\n",
    "DERL1(data, discount_rate, 5)"
   ]
  },
  {
   "cell_type": "markdown",
   "metadata": {},
   "source": [
    "> In other words, if we were to project ahead what is the probability of a customer staying with us for 5, 10, 20 more years (residual years), the average number of renewals a customer would make given that they have already renewed 4 times/survived 5 periods is $5.68$."
   ]
  },
  {
   "cell_type": "markdown",
   "metadata": {},
   "source": [
    "### Hard Way\n",
    "\n",
    "> See notes.\n",
    "\n",
    "Resulting formula also follows a Gaussian Hypergeometric Distribution but we also have to add on a bayesian element we get from deriving the posterior distribution from the conditional."
   ]
  },
  {
   "cell_type": "code",
   "execution_count": 108,
   "metadata": {},
   "outputs": [],
   "source": [
    "def DERL2(data, discount, n):\n",
    "    gamma, delta = maximize(data)\n",
    "    return (delta+n-1)/(gamma+delta+n-1) * sc.hyp2f1(1, delta+n, gamma+delta+n, 1 / (1+discount_rate))"
   ]
  },
  {
   "cell_type": "code",
   "execution_count": 109,
   "metadata": {},
   "outputs": [
    {
     "data": {
      "text/plain": [
       "5.683810205947677"
      ]
     },
     "execution_count": 109,
     "metadata": {},
     "output_type": "execute_result"
    }
   ],
   "source": [
    "DERL2(data, discount_rate, 5)"
   ]
  },
  {
   "cell_type": "markdown",
   "metadata": {},
   "source": [
    "> Also the cleaner way to do this compared to using for loop and capping at $t=1000$"
   ]
  },
  {
   "cell_type": "markdown",
   "metadata": {},
   "source": [
    "### Visualizing DERL for varying n"
   ]
  },
  {
   "cell_type": "code",
   "execution_count": 121,
   "metadata": {},
   "outputs": [
    {
     "data": {
      "image/png": "[encoded data removed]",
      "text/plain": [
       "<IPython.core.display.Image object>"
      ]
     },
     "execution_count": 121,
     "metadata": {},
     "output_type": "execute_result"
    }
   ],
   "source": [
    "Image('../images/discrete-contractional-figure-2.png')"
   ]
  },
  {
   "cell_type": "markdown",
   "metadata": {},
   "source": [
    "> If we want to include duration dependence into the model, we can use the Beta-discrete Weibull. However, I'm too lazy to implement that right now."
   ]
  },
  {
   "cell_type": "code",
   "execution_count": null,
   "metadata": {},
   "outputs": [],
   "source": []
  }
 ],
 "metadata": {
  "kernelspec": {
   "display_name": "Python 3",
   "language": "python",
   "name": "python3"
  },
  "language_info": {
   "codemirror_mode": {
    "name": "ipython",
    "version": 3
   },
   "file_extension": ".py",
   "mimetype": "text/x-python",
   "name": "python",
   "nbconvert_exporter": "python",
   "pygments_lexer": "ipython3",
   "version": "3.6.5"
  }
 },
 "nbformat": 4,
 "nbformat_minor": 4
}
